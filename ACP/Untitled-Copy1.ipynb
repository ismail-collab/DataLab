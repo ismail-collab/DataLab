{
 "cells": [
  {
   "cell_type": "markdown",
   "id": "0a5b02d6",
   "metadata": {},
   "source": [
    "<h1>  TP4 : Analyse en composantes Principales</h1>"
   ]
  },
  {
   "cell_type": "markdown",
   "id": "62201fd3",
   "metadata": {},
   "source": [
    "<h1>Etape 1 : importation et nettoyage des données</h1>"
   ]
  },
  {
   "cell_type": "markdown",
   "id": "ee0b5088",
   "metadata": {},
   "source": [
    "<h1 style =\"color:green\">Importer la bibliothèque « pandas »</h1>"
   ]
  },
  {
   "cell_type": "code",
   "execution_count": 1,
   "id": "061f14a2",
   "metadata": {},
   "outputs": [],
   "source": [
    "# a) Importer la bibliothèque « pandas »\n",
    "import pandas as pd"
   ]
  },
  {
   "cell_type": "markdown",
   "id": "85b5ffc2",
   "metadata": {},
   "source": [
    "<h1 style =\"color:green\">Charger le fichier « «notes-etudiants.csv » dans un dataframe « df »</h1>"
   ]
  },
  {
   "cell_type": "code",
   "execution_count": 2,
   "id": "05254af7",
   "metadata": {},
   "outputs": [],
   "source": [
    "# b) Charger le fichier « «notes-etudiants.csv » dans un dataframe « df »\n",
    "df=pd.read_csv('notes-etudiants.csv')"
   ]
  },
  {
   "cell_type": "markdown",
   "id": "e4792f9a",
   "metadata": {},
   "source": [
    "<h1 style =\"color:green\">Dégager le nombre d'individus ainsi que le nombre de variables</h1>"
   ]
  },
  {
   "cell_type": "code",
   "execution_count": 3,
   "id": "f45c4596",
   "metadata": {},
   "outputs": [
    {
     "name": "stdout",
     "output_type": "stream",
     "text": [
      "(12, 4)\n",
      " Nombre des Individus : 12\n",
      " Nombre des Variables : 4\n"
     ]
    }
   ],
   "source": [
    "# c) Dégager le nombre d'individus ainsi que le nombre de variables\n",
    "print(df.shape) #(nombre d'individue , nombre de variables)\n",
    "print(\" Nombre des Individus :\",df.shape[0])\n",
    "print(\" Nombre des Variables :\",df.shape[1])"
   ]
  },
  {
   "cell_type": "markdown",
   "id": "228e2137",
   "metadata": {},
   "source": [
    "<h1>Le Pre-Processing : Données Manquantes & Nettoyage</h1>"
   ]
  },
  {
   "cell_type": "markdown",
   "id": "618c139d",
   "metadata": {},
   "source": [
    "<h2>Detection des Données Manquante</h2>"
   ]
  },
  {
   "cell_type": "markdown",
   "id": "0d5ad0e2",
   "metadata": {},
   "source": [
    "<h1 style =\"color:green\">Tester s’il y a des valeurs manquantes</h1>"
   ]
  },
  {
   "cell_type": "code",
   "execution_count": 4,
   "id": "5a490f49",
   "metadata": {},
   "outputs": [
    {
     "name": "stdout",
     "output_type": "stream",
     "text": [
      "True\n"
     ]
    }
   ],
   "source": [
    "# d) Tester s’il y a des valeurs manquantes\n",
    "print(df.isnull().values.any())"
   ]
  },
  {
   "cell_type": "markdown",
   "id": "d56725b6",
   "metadata": {},
   "source": [
    "<h1 style =\"color:green\">Afficher le nombre de valeurs manquantes par variable</h1>"
   ]
  },
  {
   "cell_type": "code",
   "execution_count": 5,
   "id": "b25c0bc6",
   "metadata": {},
   "outputs": [
    {
     "data": {
      "text/plain": [
       "Statistique           0\n",
       "Math                  0\n",
       "Comptabilite          3\n",
       "Gestion Financiere    0\n",
       "dtype: int64"
      ]
     },
     "execution_count": 5,
     "metadata": {},
     "output_type": "execute_result"
    }
   ],
   "source": [
    "# e) Afficher le nombre de valeurs manquantes par variable\n",
    "df.isnull().sum()"
   ]
  },
  {
   "cell_type": "markdown",
   "id": "9201083b",
   "metadata": {},
   "source": [
    "<h2>Le Pre-Processing : Données Manquantes & Nettoyage</h2>"
   ]
  },
  {
   "cell_type": "markdown",
   "id": "d1f8e980",
   "metadata": {},
   "source": [
    "<h1 style =\"color:green\">Copier le dataframe « df » dans un nouveau nommé « df1 »</h1>"
   ]
  },
  {
   "cell_type": "code",
   "execution_count": 6,
   "id": "b1ec7287",
   "metadata": {},
   "outputs": [
    {
     "data": {
      "text/html": [
       "<div>\n",
       "<style scoped>\n",
       "    .dataframe tbody tr th:only-of-type {\n",
       "        vertical-align: middle;\n",
       "    }\n",
       "\n",
       "    .dataframe tbody tr th {\n",
       "        vertical-align: top;\n",
       "    }\n",
       "\n",
       "    .dataframe thead th {\n",
       "        text-align: right;\n",
       "    }\n",
       "</style>\n",
       "<table border=\"1\" class=\"dataframe\">\n",
       "  <thead>\n",
       "    <tr style=\"text-align: right;\">\n",
       "      <th></th>\n",
       "      <th>Statistique</th>\n",
       "      <th>Math</th>\n",
       "      <th>Comptabilite</th>\n",
       "      <th>Gestion Financiere</th>\n",
       "    </tr>\n",
       "  </thead>\n",
       "  <tbody>\n",
       "    <tr>\n",
       "      <th>Ind1</th>\n",
       "      <td>19</td>\n",
       "      <td>14</td>\n",
       "      <td>8.0</td>\n",
       "      <td>18</td>\n",
       "    </tr>\n",
       "    <tr>\n",
       "      <th>Ind1</th>\n",
       "      <td>20</td>\n",
       "      <td>12</td>\n",
       "      <td>4.0</td>\n",
       "      <td>4</td>\n",
       "    </tr>\n",
       "    <tr>\n",
       "      <th>Ind3</th>\n",
       "      <td>10</td>\n",
       "      <td>10</td>\n",
       "      <td>32.0</td>\n",
       "      <td>38</td>\n",
       "    </tr>\n",
       "    <tr>\n",
       "      <th>Ind4</th>\n",
       "      <td>13</td>\n",
       "      <td>17</td>\n",
       "      <td>NaN</td>\n",
       "      <td>4</td>\n",
       "    </tr>\n",
       "    <tr>\n",
       "      <th>Ind5</th>\n",
       "      <td>6</td>\n",
       "      <td>8</td>\n",
       "      <td>26.0</td>\n",
       "      <td>24</td>\n",
       "    </tr>\n",
       "    <tr>\n",
       "      <th>Ind6</th>\n",
       "      <td>6</td>\n",
       "      <td>3</td>\n",
       "      <td>28.0</td>\n",
       "      <td>32</td>\n",
       "    </tr>\n",
       "    <tr>\n",
       "      <th>Ind7</th>\n",
       "      <td>19</td>\n",
       "      <td>16</td>\n",
       "      <td>NaN</td>\n",
       "      <td>20</td>\n",
       "    </tr>\n",
       "    <tr>\n",
       "      <th>Ind8</th>\n",
       "      <td>15</td>\n",
       "      <td>18</td>\n",
       "      <td>6.0</td>\n",
       "      <td>6</td>\n",
       "    </tr>\n",
       "    <tr>\n",
       "      <th>Ind9</th>\n",
       "      <td>9</td>\n",
       "      <td>2</td>\n",
       "      <td>31.0</td>\n",
       "      <td>30</td>\n",
       "    </tr>\n",
       "    <tr>\n",
       "      <th>Ind10</th>\n",
       "      <td>8</td>\n",
       "      <td>7</td>\n",
       "      <td>20.0</td>\n",
       "      <td>20</td>\n",
       "    </tr>\n",
       "    <tr>\n",
       "      <th>Ind11</th>\n",
       "      <td>20</td>\n",
       "      <td>13</td>\n",
       "      <td>NaN</td>\n",
       "      <td>4</td>\n",
       "    </tr>\n",
       "    <tr>\n",
       "      <th>Ind12</th>\n",
       "      <td>18</td>\n",
       "      <td>12</td>\n",
       "      <td>8.0</td>\n",
       "      <td>6</td>\n",
       "    </tr>\n",
       "  </tbody>\n",
       "</table>\n",
       "</div>"
      ],
      "text/plain": [
       "       Statistique  Math  Comptabilite  Gestion Financiere\n",
       "Ind1            19    14           8.0                  18\n",
       "Ind1            20    12           4.0                   4\n",
       "Ind3            10    10          32.0                  38\n",
       "Ind4            13    17           NaN                   4\n",
       "Ind5             6     8          26.0                  24\n",
       "Ind6             6     3          28.0                  32\n",
       "Ind7            19    16           NaN                  20\n",
       "Ind8            15    18           6.0                   6\n",
       "Ind9             9     2          31.0                  30\n",
       "Ind10            8     7          20.0                  20\n",
       "Ind11           20    13           NaN                   4\n",
       "Ind12           18    12           8.0                   6"
      ]
     },
     "execution_count": 6,
     "metadata": {},
     "output_type": "execute_result"
    }
   ],
   "source": [
    "# f) Copier le dataframe « df » dans un nouveau nommé « df1 »\n",
    "df1 = df.copy()\n",
    "df1"
   ]
  },
  {
   "cell_type": "markdown",
   "id": "9d0a5591",
   "metadata": {},
   "source": [
    "<h2>Nettoyage des Données</h2>"
   ]
  },
  {
   "cell_type": "markdown",
   "id": "9e026d1f",
   "metadata": {},
   "source": [
    "<h1 style =\"color:green\">S’il y a des valeurs manquantes dans « df1 »,procéder pour le nettoyage, par un remplacement par la valeur la plus utilisée</h1>"
   ]
  },
  {
   "cell_type": "code",
   "execution_count": 7,
   "id": "33d1d012",
   "metadata": {},
   "outputs": [
    {
     "name": "stdout",
     "output_type": "stream",
     "text": [
      "0    8.0\n",
      "dtype: float64\n"
     ]
    }
   ],
   "source": [
    "#g) S’il y a des valeurs manquantes dans « df1 »,procéder pour le nettoyage, par un remplacement par la valeur la plus utilisée\n",
    "print(df1['Comptabilite'].mode())"
   ]
  },
  {
   "cell_type": "code",
   "execution_count": 8,
   "id": "5a0b44cb",
   "metadata": {},
   "outputs": [
    {
     "data": {
      "text/html": [
       "<div>\n",
       "<style scoped>\n",
       "    .dataframe tbody tr th:only-of-type {\n",
       "        vertical-align: middle;\n",
       "    }\n",
       "\n",
       "    .dataframe tbody tr th {\n",
       "        vertical-align: top;\n",
       "    }\n",
       "\n",
       "    .dataframe thead th {\n",
       "        text-align: right;\n",
       "    }\n",
       "</style>\n",
       "<table border=\"1\" class=\"dataframe\">\n",
       "  <thead>\n",
       "    <tr style=\"text-align: right;\">\n",
       "      <th></th>\n",
       "      <th>Statistique</th>\n",
       "      <th>Math</th>\n",
       "      <th>Comptabilite</th>\n",
       "      <th>Gestion Financiere</th>\n",
       "    </tr>\n",
       "  </thead>\n",
       "  <tbody>\n",
       "    <tr>\n",
       "      <th>Ind1</th>\n",
       "      <td>19</td>\n",
       "      <td>14</td>\n",
       "      <td>8.0</td>\n",
       "      <td>18</td>\n",
       "    </tr>\n",
       "    <tr>\n",
       "      <th>Ind1</th>\n",
       "      <td>20</td>\n",
       "      <td>12</td>\n",
       "      <td>4.0</td>\n",
       "      <td>4</td>\n",
       "    </tr>\n",
       "    <tr>\n",
       "      <th>Ind3</th>\n",
       "      <td>10</td>\n",
       "      <td>10</td>\n",
       "      <td>32.0</td>\n",
       "      <td>38</td>\n",
       "    </tr>\n",
       "    <tr>\n",
       "      <th>Ind4</th>\n",
       "      <td>13</td>\n",
       "      <td>17</td>\n",
       "      <td>8.0</td>\n",
       "      <td>4</td>\n",
       "    </tr>\n",
       "    <tr>\n",
       "      <th>Ind5</th>\n",
       "      <td>6</td>\n",
       "      <td>8</td>\n",
       "      <td>26.0</td>\n",
       "      <td>24</td>\n",
       "    </tr>\n",
       "    <tr>\n",
       "      <th>Ind6</th>\n",
       "      <td>6</td>\n",
       "      <td>3</td>\n",
       "      <td>28.0</td>\n",
       "      <td>32</td>\n",
       "    </tr>\n",
       "    <tr>\n",
       "      <th>Ind7</th>\n",
       "      <td>19</td>\n",
       "      <td>16</td>\n",
       "      <td>8.0</td>\n",
       "      <td>20</td>\n",
       "    </tr>\n",
       "    <tr>\n",
       "      <th>Ind8</th>\n",
       "      <td>15</td>\n",
       "      <td>18</td>\n",
       "      <td>6.0</td>\n",
       "      <td>6</td>\n",
       "    </tr>\n",
       "    <tr>\n",
       "      <th>Ind9</th>\n",
       "      <td>9</td>\n",
       "      <td>2</td>\n",
       "      <td>31.0</td>\n",
       "      <td>30</td>\n",
       "    </tr>\n",
       "    <tr>\n",
       "      <th>Ind10</th>\n",
       "      <td>8</td>\n",
       "      <td>7</td>\n",
       "      <td>20.0</td>\n",
       "      <td>20</td>\n",
       "    </tr>\n",
       "    <tr>\n",
       "      <th>Ind11</th>\n",
       "      <td>20</td>\n",
       "      <td>13</td>\n",
       "      <td>8.0</td>\n",
       "      <td>4</td>\n",
       "    </tr>\n",
       "    <tr>\n",
       "      <th>Ind12</th>\n",
       "      <td>18</td>\n",
       "      <td>12</td>\n",
       "      <td>8.0</td>\n",
       "      <td>6</td>\n",
       "    </tr>\n",
       "  </tbody>\n",
       "</table>\n",
       "</div>"
      ],
      "text/plain": [
       "       Statistique  Math  Comptabilite  Gestion Financiere\n",
       "Ind1            19    14           8.0                  18\n",
       "Ind1            20    12           4.0                   4\n",
       "Ind3            10    10          32.0                  38\n",
       "Ind4            13    17           8.0                   4\n",
       "Ind5             6     8          26.0                  24\n",
       "Ind6             6     3          28.0                  32\n",
       "Ind7            19    16           8.0                  20\n",
       "Ind8            15    18           6.0                   6\n",
       "Ind9             9     2          31.0                  30\n",
       "Ind10            8     7          20.0                  20\n",
       "Ind11           20    13           8.0                   4\n",
       "Ind12           18    12           8.0                   6"
      ]
     },
     "execution_count": 8,
     "metadata": {},
     "output_type": "execute_result"
    }
   ],
   "source": [
    "df1['Comptabilite'].fillna(8.0,inplace=True) # mode non fonctionnelle \n",
    "df1"
   ]
  },
  {
   "cell_type": "markdown",
   "id": "cc6b6480",
   "metadata": {},
   "source": [
    "<h1 style =\"color:green\">Somme des valeurs manquantes par variable</h1>"
   ]
  },
  {
   "cell_type": "code",
   "execution_count": 9,
   "id": "e12ad7bc",
   "metadata": {},
   "outputs": [
    {
     "data": {
      "text/plain": [
       "Statistique           0\n",
       "Math                  0\n",
       "Comptabilite          0\n",
       "Gestion Financiere    0\n",
       "dtype: int64"
      ]
     },
     "execution_count": 9,
     "metadata": {},
     "output_type": "execute_result"
    }
   ],
   "source": [
    "df1.isnull().sum()"
   ]
  },
  {
   "cell_type": "markdown",
   "id": "a99aa23c",
   "metadata": {},
   "source": [
    "<h1>Etape 2 : corrélation entre les variables</h1>"
   ]
  },
  {
   "cell_type": "code",
   "execution_count": 10,
   "id": "0487bfc3",
   "metadata": {},
   "outputs": [
    {
     "data": {
      "text/html": [
       "<div>\n",
       "<style scoped>\n",
       "    .dataframe tbody tr th:only-of-type {\n",
       "        vertical-align: middle;\n",
       "    }\n",
       "\n",
       "    .dataframe tbody tr th {\n",
       "        vertical-align: top;\n",
       "    }\n",
       "\n",
       "    .dataframe thead th {\n",
       "        text-align: right;\n",
       "    }\n",
       "</style>\n",
       "<table border=\"1\" class=\"dataframe\">\n",
       "  <thead>\n",
       "    <tr style=\"text-align: right;\">\n",
       "      <th></th>\n",
       "      <th>Statistique</th>\n",
       "      <th>Math</th>\n",
       "      <th>Comptabilite</th>\n",
       "      <th>Gestion Financiere</th>\n",
       "    </tr>\n",
       "  </thead>\n",
       "  <tbody>\n",
       "    <tr>\n",
       "      <th>Statistique</th>\n",
       "      <td>1.000000</td>\n",
       "      <td>0.703085</td>\n",
       "      <td>-0.860356</td>\n",
       "      <td>-0.691173</td>\n",
       "    </tr>\n",
       "    <tr>\n",
       "      <th>Math</th>\n",
       "      <td>0.703085</td>\n",
       "      <td>1.000000</td>\n",
       "      <td>-0.822843</td>\n",
       "      <td>-0.683630</td>\n",
       "    </tr>\n",
       "    <tr>\n",
       "      <th>Comptabilite</th>\n",
       "      <td>-0.860356</td>\n",
       "      <td>-0.822843</td>\n",
       "      <td>1.000000</td>\n",
       "      <td>0.902431</td>\n",
       "    </tr>\n",
       "    <tr>\n",
       "      <th>Gestion Financiere</th>\n",
       "      <td>-0.691173</td>\n",
       "      <td>-0.683630</td>\n",
       "      <td>0.902431</td>\n",
       "      <td>1.000000</td>\n",
       "    </tr>\n",
       "  </tbody>\n",
       "</table>\n",
       "</div>"
      ],
      "text/plain": [
       "                    Statistique      Math  Comptabilite  Gestion Financiere\n",
       "Statistique            1.000000  0.703085     -0.860356           -0.691173\n",
       "Math                   0.703085  1.000000     -0.822843           -0.683630\n",
       "Comptabilite          -0.860356 -0.822843      1.000000            0.902431\n",
       "Gestion Financiere    -0.691173 -0.683630      0.902431            1.000000"
      ]
     },
     "execution_count": 10,
     "metadata": {},
     "output_type": "execute_result"
    }
   ],
   "source": [
    "# h) Créer la matrice de corrélation pour voir l’inter-liaison entre les variables\n",
    "CorrMatrix=df1.corr()\n",
    "CorrMatrix"
   ]
  },
  {
   "cell_type": "markdown",
   "id": "385b8177",
   "metadata": {},
   "source": [
    "<h1 style =\"color:green\">Graphique bar</h1>"
   ]
  },
  {
   "cell_type": "code",
   "execution_count": 28,
   "id": "ce85fd8d",
   "metadata": {},
   "outputs": [
    {
     "data": {
      "text/plain": [
       "Text(0.5, 1.0, 'Scree Plot')"
      ]
     },
     "execution_count": 28,
     "metadata": {},
     "output_type": "execute_result"
    },
    {
     "data": {
      "image/png": "[encoded data removed]",
      "text/plain": [
       "<Figure size 432x288 with 1 Axes>"
      ]
     },
     "metadata": {
      "needs_background": "light"
     },
     "output_type": "display_data"
    }
   ],
   "source": [
    "plt.bar(np.arange(1,5), mypca.explained_variance_ratio_)\n",
    "plt.xticks(np.arange(1,5))#set label location\n",
    "plt.xlabel(\"component number\")\n",
    "plt.ylabel(\"Proportion of Variance\")\n",
    "plt.title(\"Scree Plot\")"
   ]
  },
  {
   "cell_type": "markdown",
   "id": "212ae1e4",
   "metadata": {},
   "source": [
    "<h1 style =\"color:green\">Graphique plot</h1>"
   ]
  },
  {
   "cell_type": "code",
   "execution_count": 22,
   "id": "43387c5f",
   "metadata": {},
   "outputs": [
    {
     "data": {
      "image/png": "[encoded data removed]",
      "text/plain": [
       "<Figure size 432x288 with 1 Axes>"
      ]
     },
     "metadata": {
      "needs_background": "light"
     },
     "output_type": "display_data"
    }
   ],
   "source": [
    "#Variation Composantes-Variances \n",
    "plt.plot(np.cumsum(mypca.explained_variance_ratio_))\n",
    "plt.title(\"Fig - Variance expliquée vs Nombre de facteurs\")\n",
    "plt.xlabel(\"Nombre De Composantes\")\n",
    "plt.ylabel(\"% Variance Exprimée\")\n",
    "plt.show()"
   ]
  },
  {
   "cell_type": "code",
   "execution_count": 25,
   "id": "37be92c6",
   "metadata": {},
   "outputs": [
    {
     "name": "stdout",
     "output_type": "stream",
     "text": [
      "[6.32948508 1.98152088 1.88583095 0.67441472]\n"
     ]
    }
   ],
   "source": [
    "s=mypca.singular_values_\n",
    "print(s) #valeurs de variance"
   ]
  },
  {
   "cell_type": "markdown",
   "id": "f917f9fe",
   "metadata": {},
   "source": [
    "<h1 style =\"color:green\">Graphique scatter</h1>"
   ]
  },
  {
   "cell_type": "code",
   "execution_count": 31,
   "id": "2f07edee",
   "metadata": {},
   "outputs": [
    {
     "data": {
      "image/png": "[encoded data removed]",
      "text/plain": [
       "<Figure size 720x720 with 1 Axes>"
      ]
     },
     "metadata": {
      "needs_background": "light"
     },
     "output_type": "display_data"
    }
   ],
   "source": [
    "plt.figure(figsize=(10,10))\n",
    "plt.scatter(data_sortie[:,0],data_sortie[:,1],c=df.get('Statistique'),cmap='plasma')\n",
    "plt.xlabel('PC1')\n",
    "plt.ylabel('PC2')\n",
    "plt.show()"
   ]
  },
  {
   "cell_type": "code",
   "execution_count": null,
   "id": "5abe8fc8",
   "metadata": {},
   "outputs": [],
   "source": []
  }
 ],
 "metadata": {
  "kernelspec": {
   "display_name": "Python 3 (ipykernel)",
   "language": "python",
   "name": "python3"
  },
  "language_info": {
   "codemirror_mode": {
    "name": "ipython",
    "version": 3
   },
   "file_extension": ".py",
   "mimetype": "text/x-python",
   "name": "python",
   "nbconvert_exporter": "python",
   "pygments_lexer": "ipython3",
   "version": "3.9.7"
  }
 },
 "nbformat": 4,
 "nbformat_minor": 5
}

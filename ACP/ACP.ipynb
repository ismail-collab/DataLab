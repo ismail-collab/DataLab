{
 "cells": [
  {
   "cell_type": "markdown",
   "id": "0a5b02d6",
   "metadata": {},
   "source": [
    "<h1>  TP4 : Analyse en composantes Principales</h1>"
   ]
  },
  {
   "cell_type": "markdown",
   "id": "62201fd3",
   "metadata": {},
   "source": [
    "<h1>Etape 1 : importation et nettoyage des données</h1>"
   ]
  },
  {
   "cell_type": "code",
   "execution_count": 1,
   "id": "061f14a2",
   "metadata": {},
   "outputs": [],
   "source": [
    "# a) Importer la bibliothèque « pandas »\n",
    "import pandas as pd"
   ]
  },
  {
   "cell_type": "code",
   "execution_count": 2,
   "id": "05254af7",
   "metadata": {},
   "outputs": [],
   "source": [
    "# b) Charger le fichier « «notes-etudiants.csv » dans un dataframe « df »\n",
    "df=pd.read_csv('notes-etudiants.csv')"
   ]
  },
  {
   "cell_type": "code",
   "execution_count": 3,
   "id": "f45c4596",
   "metadata": {},
   "outputs": [
    {
     "name": "stdout",
     "output_type": "stream",
     "text": [
      "(12, 4)\n",
      " Nombre des Individus : 12\n",
      " Nombre des Variables : 4\n"
     ]
    }
   ],
   "source": [
    "# c) Dégager le nombre d'individus ainsi que le nombre de variables\n",
    "print(df.shape) #(nombre d'individue , nombre de variables)\n",
    "print(\" Nombre des Individus :\",df.shape[0])\n",
    "print(\" Nombre des Variables :\",df.shape[1])"
   ]
  },
  {
   "cell_type": "markdown",
   "id": "228e2137",
   "metadata": {},
   "source": [
    "<h1>Le Pre-Processing : Données Manquantes & Nettoyage</h1>"
   ]
  },
  {
   "cell_type": "markdown",
   "id": "618c139d",
   "metadata": {},
   "source": [
    "<h2>Detection des Données Manquante</h2>"
   ]
  },
  {
   "cell_type": "code",
   "execution_count": 4,
   "id": "5a490f49",
   "metadata": {},
   "outputs": [
    {
     "name": "stdout",
     "output_type": "stream",
     "text": [
      "True\n"
     ]
    }
   ],
   "source": [
    "# d) Tester s’il y a des valeurs manquantes\n",
    "print(df.isnull().values.any())"
   ]
  },
  {
   "cell_type": "code",
   "execution_count": 5,
   "id": "b25c0bc6",
   "metadata": {},
   "outputs": [
    {
     "data": {
      "text/plain": [
       "Statistique           0\n",
       "Math                  0\n",
       "Comptabilite          3\n",
       "Gestion Financiere    0\n",
       "dtype: int64"
      ]
     },
     "execution_count": 5,
     "metadata": {},
     "output_type": "execute_result"
    }
   ],
   "source": [
    "# e) Afficher le nombre de valeurs manquantes par variable\n",
    "df.isnull().sum()"
   ]
  },
  {
   "cell_type": "markdown",
   "id": "9201083b",
   "metadata": {},
   "source": [
    "<h2>Le Pre-Processing : Données Manquantes & Nettoyage</h2>"
   ]
  },
  {
   "cell_type": "code",
   "execution_count": 6,
   "id": "b1ec7287",
   "metadata": {},
   "outputs": [
    {
     "data": {
      "text/html": [
       "<div>\n",
       "<style scoped>\n",
       "    .dataframe tbody tr th:only-of-type {\n",
       "        vertical-align: middle;\n",
       "    }\n",
       "\n",
       "    .dataframe tbody tr th {\n",
       "        vertical-align: top;\n",
       "    }\n",
       "\n",
       "    .dataframe thead th {\n",
       "        text-align: right;\n",
       "    }\n",
       "</style>\n",
       "<table border=\"1\" class=\"dataframe\">\n",
       "  <thead>\n",
       "    <tr style=\"text-align: right;\">\n",
       "      <th></th>\n",
       "      <th>Statistique</th>\n",
       "      <th>Math</th>\n",
       "      <th>Comptabilite</th>\n",
       "      <th>Gestion Financiere</th>\n",
       "    </tr>\n",
       "  </thead>\n",
       "  <tbody>\n",
       "    <tr>\n",
       "      <th>Ind1</th>\n",
       "      <td>19</td>\n",
       "      <td>14</td>\n",
       "      <td>8.0</td>\n",
       "      <td>18</td>\n",
       "    </tr>\n",
       "    <tr>\n",
       "      <th>Ind1</th>\n",
       "      <td>20</td>\n",
       "      <td>12</td>\n",
       "      <td>4.0</td>\n",
       "      <td>4</td>\n",
       "    </tr>\n",
       "    <tr>\n",
       "      <th>Ind3</th>\n",
       "      <td>10</td>\n",
       "      <td>10</td>\n",
       "      <td>32.0</td>\n",
       "      <td>38</td>\n",
       "    </tr>\n",
       "    <tr>\n",
       "      <th>Ind4</th>\n",
       "      <td>13</td>\n",
       "      <td>17</td>\n",
       "      <td>NaN</td>\n",
       "      <td>4</td>\n",
       "    </tr>\n",
       "    <tr>\n",
       "      <th>Ind5</th>\n",
       "      <td>6</td>\n",
       "      <td>8</td>\n",
       "      <td>26.0</td>\n",
       "      <td>24</td>\n",
       "    </tr>\n",
       "    <tr>\n",
       "      <th>Ind6</th>\n",
       "      <td>6</td>\n",
       "      <td>3</td>\n",
       "      <td>28.0</td>\n",
       "      <td>32</td>\n",
       "    </tr>\n",
       "    <tr>\n",
       "      <th>Ind7</th>\n",
       "      <td>19</td>\n",
       "      <td>16</td>\n",
       "      <td>NaN</td>\n",
       "      <td>20</td>\n",
       "    </tr>\n",
       "    <tr>\n",
       "      <th>Ind8</th>\n",
       "      <td>15</td>\n",
       "      <td>18</td>\n",
       "      <td>6.0</td>\n",
       "      <td>6</td>\n",
       "    </tr>\n",
       "    <tr>\n",
       "      <th>Ind9</th>\n",
       "      <td>9</td>\n",
       "      <td>2</td>\n",
       "      <td>31.0</td>\n",
       "      <td>30</td>\n",
       "    </tr>\n",
       "    <tr>\n",
       "      <th>Ind10</th>\n",
       "      <td>8</td>\n",
       "      <td>7</td>\n",
       "      <td>20.0</td>\n",
       "      <td>20</td>\n",
       "    </tr>\n",
       "    <tr>\n",
       "      <th>Ind11</th>\n",
       "      <td>20</td>\n",
       "      <td>13</td>\n",
       "      <td>NaN</td>\n",
       "      <td>4</td>\n",
       "    </tr>\n",
       "    <tr>\n",
       "      <th>Ind12</th>\n",
       "      <td>18</td>\n",
       "      <td>12</td>\n",
       "      <td>8.0</td>\n",
       "      <td>6</td>\n",
       "    </tr>\n",
       "  </tbody>\n",
       "</table>\n",
       "</div>"
      ],
      "text/plain": [
       "       Statistique  Math  Comptabilite  Gestion Financiere\n",
       "Ind1            19    14           8.0                  18\n",
       "Ind1            20    12           4.0                   4\n",
       "Ind3            10    10          32.0                  38\n",
       "Ind4            13    17           NaN                   4\n",
       "Ind5             6     8          26.0                  24\n",
       "Ind6             6     3          28.0                  32\n",
       "Ind7            19    16           NaN                  20\n",
       "Ind8            15    18           6.0                   6\n",
       "Ind9             9     2          31.0                  30\n",
       "Ind10            8     7          20.0                  20\n",
       "Ind11           20    13           NaN                   4\n",
       "Ind12           18    12           8.0                   6"
      ]
     },
     "execution_count": 6,
     "metadata": {},
     "output_type": "execute_result"
    }
   ],
   "source": [
    "# f) Copier le dataframe « df » dans un nouveau nommé « df1 »\n",
    "df1 = df.copy()\n",
    "df1"
   ]
  },
  {
   "cell_type": "markdown",
   "id": "9d0a5591",
   "metadata": {},
   "source": [
    "<h2>Nettoyage des Données</h2>"
   ]
  },
  {
   "cell_type": "code",
   "execution_count": 7,
   "id": "33d1d012",
   "metadata": {},
   "outputs": [
    {
     "name": "stdout",
     "output_type": "stream",
     "text": [
      "0    8.0\n",
      "Name: Comptabilite, dtype: float64\n"
     ]
    }
   ],
   "source": [
    "#g) S’il y a des valeurs manquantes dans « df1 »,procéder pour le nettoyage, par un remplacement par la valeur la plus utilisée\n",
    "print(df1['Comptabilite'].mode())"
   ]
  },
  {
   "cell_type": "code",
   "execution_count": 8,
   "id": "5a0b44cb",
   "metadata": {},
   "outputs": [
    {
     "data": {
      "text/html": [
       "<div>\n",
       "<style scoped>\n",
       "    .dataframe tbody tr th:only-of-type {\n",
       "        vertical-align: middle;\n",
       "    }\n",
       "\n",
       "    .dataframe tbody tr th {\n",
       "        vertical-align: top;\n",
       "    }\n",
       "\n",
       "    .dataframe thead th {\n",
       "        text-align: right;\n",
       "    }\n",
       "</style>\n",
       "<table border=\"1\" class=\"dataframe\">\n",
       "  <thead>\n",
       "    <tr style=\"text-align: right;\">\n",
       "      <th></th>\n",
       "      <th>Statistique</th>\n",
       "      <th>Math</th>\n",
       "      <th>Comptabilite</th>\n",
       "      <th>Gestion Financiere</th>\n",
       "    </tr>\n",
       "  </thead>\n",
       "  <tbody>\n",
       "    <tr>\n",
       "      <th>Ind1</th>\n",
       "      <td>19</td>\n",
       "      <td>14</td>\n",
       "      <td>8.0</td>\n",
       "      <td>18</td>\n",
       "    </tr>\n",
       "    <tr>\n",
       "      <th>Ind1</th>\n",
       "      <td>20</td>\n",
       "      <td>12</td>\n",
       "      <td>4.0</td>\n",
       "      <td>4</td>\n",
       "    </tr>\n",
       "    <tr>\n",
       "      <th>Ind3</th>\n",
       "      <td>10</td>\n",
       "      <td>10</td>\n",
       "      <td>32.0</td>\n",
       "      <td>38</td>\n",
       "    </tr>\n",
       "    <tr>\n",
       "      <th>Ind4</th>\n",
       "      <td>13</td>\n",
       "      <td>17</td>\n",
       "      <td>8.0</td>\n",
       "      <td>4</td>\n",
       "    </tr>\n",
       "    <tr>\n",
       "      <th>Ind5</th>\n",
       "      <td>6</td>\n",
       "      <td>8</td>\n",
       "      <td>26.0</td>\n",
       "      <td>24</td>\n",
       "    </tr>\n",
       "    <tr>\n",
       "      <th>Ind6</th>\n",
       "      <td>6</td>\n",
       "      <td>3</td>\n",
       "      <td>28.0</td>\n",
       "      <td>32</td>\n",
       "    </tr>\n",
       "    <tr>\n",
       "      <th>Ind7</th>\n",
       "      <td>19</td>\n",
       "      <td>16</td>\n",
       "      <td>8.0</td>\n",
       "      <td>20</td>\n",
       "    </tr>\n",
       "    <tr>\n",
       "      <th>Ind8</th>\n",
       "      <td>15</td>\n",
       "      <td>18</td>\n",
       "      <td>6.0</td>\n",
       "      <td>6</td>\n",
       "    </tr>\n",
       "    <tr>\n",
       "      <th>Ind9</th>\n",
       "      <td>9</td>\n",
       "      <td>2</td>\n",
       "      <td>31.0</td>\n",
       "      <td>30</td>\n",
       "    </tr>\n",
       "    <tr>\n",
       "      <th>Ind10</th>\n",
       "      <td>8</td>\n",
       "      <td>7</td>\n",
       "      <td>20.0</td>\n",
       "      <td>20</td>\n",
       "    </tr>\n",
       "    <tr>\n",
       "      <th>Ind11</th>\n",
       "      <td>20</td>\n",
       "      <td>13</td>\n",
       "      <td>8.0</td>\n",
       "      <td>4</td>\n",
       "    </tr>\n",
       "    <tr>\n",
       "      <th>Ind12</th>\n",
       "      <td>18</td>\n",
       "      <td>12</td>\n",
       "      <td>8.0</td>\n",
       "      <td>6</td>\n",
       "    </tr>\n",
       "  </tbody>\n",
       "</table>\n",
       "</div>"
      ],
      "text/plain": [
       "       Statistique  Math  Comptabilite  Gestion Financiere\n",
       "Ind1            19    14           8.0                  18\n",
       "Ind1            20    12           4.0                   4\n",
       "Ind3            10    10          32.0                  38\n",
       "Ind4            13    17           8.0                   4\n",
       "Ind5             6     8          26.0                  24\n",
       "Ind6             6     3          28.0                  32\n",
       "Ind7            19    16           8.0                  20\n",
       "Ind8            15    18           6.0                   6\n",
       "Ind9             9     2          31.0                  30\n",
       "Ind10            8     7          20.0                  20\n",
       "Ind11           20    13           8.0                   4\n",
       "Ind12           18    12           8.0                   6"
      ]
     },
     "execution_count": 8,
     "metadata": {},
     "output_type": "execute_result"
    }
   ],
   "source": [
    "df1['Comptabilite'].fillna(8.0,inplace=True) # mode non fonctionnelle \n",
    "df1"
   ]
  },
  {
   "cell_type": "code",
   "execution_count": 9,
   "id": "e12ad7bc",
   "metadata": {},
   "outputs": [
    {
     "data": {
      "text/plain": [
       "Statistique           0\n",
       "Math                  0\n",
       "Comptabilite          0\n",
       "Gestion Financiere    0\n",
       "dtype: int64"
      ]
     },
     "execution_count": 9,
     "metadata": {},
     "output_type": "execute_result"
    }
   ],
   "source": [
    "df1.isnull().sum()"
   ]
  },
  {
   "cell_type": "markdown",
   "id": "a99aa23c",
   "metadata": {},
   "source": [
    "<h1>Etape 2 : corrélation entre les variables</h1>"
   ]
  },
  {
   "cell_type": "code",
   "execution_count": 10,
   "id": "0487bfc3",
   "metadata": {},
   "outputs": [
    {
     "data": {
      "text/html": [
       "<div>\n",
       "<style scoped>\n",
       "    .dataframe tbody tr th:only-of-type {\n",
       "        vertical-align: middle;\n",
       "    }\n",
       "\n",
       "    .dataframe tbody tr th {\n",
       "        vertical-align: top;\n",
       "    }\n",
       "\n",
       "    .dataframe thead th {\n",
       "        text-align: right;\n",
       "    }\n",
       "</style>\n",
       "<table border=\"1\" class=\"dataframe\">\n",
       "  <thead>\n",
       "    <tr style=\"text-align: right;\">\n",
       "      <th></th>\n",
       "      <th>Statistique</th>\n",
       "      <th>Math</th>\n",
       "      <th>Comptabilite</th>\n",
       "      <th>Gestion Financiere</th>\n",
       "    </tr>\n",
       "  </thead>\n",
       "  <tbody>\n",
       "    <tr>\n",
       "      <th>Statistique</th>\n",
       "      <td>1.000000</td>\n",
       "      <td>0.703085</td>\n",
       "      <td>-0.860356</td>\n",
       "      <td>-0.691173</td>\n",
       "    </tr>\n",
       "    <tr>\n",
       "      <th>Math</th>\n",
       "      <td>0.703085</td>\n",
       "      <td>1.000000</td>\n",
       "      <td>-0.822843</td>\n",
       "      <td>-0.683630</td>\n",
       "    </tr>\n",
       "    <tr>\n",
       "      <th>Comptabilite</th>\n",
       "      <td>-0.860356</td>\n",
       "      <td>-0.822843</td>\n",
       "      <td>1.000000</td>\n",
       "      <td>0.902431</td>\n",
       "    </tr>\n",
       "    <tr>\n",
       "      <th>Gestion Financiere</th>\n",
       "      <td>-0.691173</td>\n",
       "      <td>-0.683630</td>\n",
       "      <td>0.902431</td>\n",
       "      <td>1.000000</td>\n",
       "    </tr>\n",
       "  </tbody>\n",
       "</table>\n",
       "</div>"
      ],
      "text/plain": [
       "                    Statistique      Math  Comptabilite  Gestion Financiere\n",
       "Statistique            1.000000  0.703085     -0.860356           -0.691173\n",
       "Math                   0.703085  1.000000     -0.822843           -0.683630\n",
       "Comptabilite          -0.860356 -0.822843      1.000000            0.902431\n",
       "Gestion Financiere    -0.691173 -0.683630      0.902431            1.000000"
      ]
     },
     "execution_count": 10,
     "metadata": {},
     "output_type": "execute_result"
    }
   ],
   "source": [
    "# h) Créer la matrice de corrélation pour voir l’inter-liaison entre les variables\n",
    "CorrMatrix=df1.corr()\n",
    "CorrMatrix"
   ]
  },
  {
   "cell_type": "markdown",
   "id": "1aa7ffc7",
   "metadata": {},
   "source": [
    "<h3> i) Que Constatez-Vous ? \n",
    "    \n",
    "   => Constatation : En examinant cette matrice on constate que nous avons 2 groupes de Variables :\n",
    "        \n",
    "Les matiéres dites \"Scientifique\"(Statistiques et Mathématiques)\n",
    "Les matiéres dites de \"Gestion\"(Comptabilité & Gestion Financiére)\n",
    "\n",
    "Les matiéres scientifique sont fortement corrélées positivement entre elles r(Stat,Math)=0,703085\n",
    "de méme pour les matiéres de gestion r(Comp,GF)=0,902431\n",
    "\n",
    "alors que entre ces deux groupes les corrélations sont fortement négatives.\n",
    " Exemple r(Math,Comp)=-0,822843\n",
    "\n",
    "Cela signifie qu'un étudiant \"bon\" en Statistique le sera également en Mathématiques.\n",
    "Mais en revanche il sera \"Mauvaise\" en Comptabilité et en Gestion Financiére <h3/>"
   ]
  },
  {
   "cell_type": "markdown",
   "id": "4c57bfb1",
   "metadata": {},
   "source": [
    "<h3>Représentation graphique de la corrélation entre les variables</h3>"
   ]
  },
  {
   "cell_type": "code",
   "execution_count": 12,
   "id": "86fabcb9",
   "metadata": {},
   "outputs": [
    {
     "data": {
      "image/png": "[encoded data removed]",
      "text/plain": [
       "<Figure size 640x480 with 2 Axes>"
      ]
     },
     "metadata": {},
     "output_type": "display_data"
    }
   ],
   "source": [
    "# j) En utilisant la bibliothèque «seaborn »,Représenter graphiquement la corrélation entre les variables.\n",
    "import seaborn as sns \n",
    "from matplotlib import pyplot as plt \n",
    "sns.heatmap(CorrMatrix,annot=True)\n",
    "plt.show()"
   ]
  },
  {
   "cell_type": "markdown",
   "id": "3ce3e5a2",
   "metadata": {},
   "source": [
    "<h1>Etape 3 : Réaliser une ACP</h1>"
   ]
  },
  {
   "cell_type": "markdown",
   "id": "246fa261",
   "metadata": {},
   "source": [
    "<h3>\n",
    "    Données Centrées Reduites \n",
    "    \n",
    "les variables Statistique et Mathématiques sont notées sur 20 alors Comptabilité & Gestion Financiére sont notées sur 40.\n",
    "La seul maniére pour rendre ses données\"homogeneous\", c'est de les centrer et de les reduire \n",
    "\n",
    "Une Matrice Centrée Reduite est une matrice dont :\n",
    "1. La Moyenne des valeurs de chaque variable = 0\n",
    "2. L'Ecart Type des valeurs de chaque variable = 1</h3>"
   ]
  },
  {
   "cell_type": "code",
   "execution_count": null,
   "id": "e95ff641",
   "metadata": {},
   "outputs": [
    {
     "name": "stdout",
     "output_type": "stream",
     "text": [
      "[[ 1.01327759  0.60404045 -0.72776715  0.07103104]\n",
      " [ 1.20034422  0.20134682 -1.11164433 -1.12229044]\n",
      " [-0.6703221  -0.20134682  1.57549592  1.77577601]\n",
      " [-0.1091222   1.2080809  -0.72776715 -1.12229044]\n",
      " [-1.41858862 -0.60404045  0.99968015  0.58245453]\n",
      " [-1.41858862 -1.61077453  1.19161874  1.26435252]\n",
      " [ 1.01327759  1.00673408 -0.72776715  0.24150554]\n",
      " [ 0.26501106  1.40942772 -0.91970574 -0.95181594]\n",
      " [-0.85738873 -1.81212135  1.47952663  1.09387802]\n",
      " [-1.04445536 -0.80538727  0.42386439  0.24150554]\n",
      " [ 1.20034422  0.40269363 -0.72776715 -1.12229044]\n",
      " [ 0.82621096  0.20134682 -0.72776715 -0.95181594]]\n"
     ]
    }
   ],
   "source": [
    "# k) Normaliser vos données.\n",
    "#sklearn : pour le machine learning \n",
    "from sklearn import preprocessing \n",
    "#fit_transform appliquer la transformations sur la dataframe \n",
    "X=preprocessing.StandardScaler().fit_transform(df1)\n",
    "print(X) #X est matrice centrée réduite "
   ]
  },
  {
   "cell_type": "code",
   "execution_count": null,
   "id": "d3b72c09",
   "metadata": {},
   "outputs": [
    {
     "name": "stdout",
     "output_type": "stream",
     "text": [
      "Moyenne\n",
      "[-1.29526020e-16  6.93889390e-18 -7.40148683e-17 -1.20274161e-16]\n",
      "Ecart-Type\n",
      "[1. 1. 1. 1.]\n"
     ]
    }
   ],
   "source": [
    "#Vérifier la moyenne des colonnes La Moyenne des valeurs de chaque variable = 0\n",
    "import numpy as np \n",
    "print('Moyenne')\n",
    "print(np.mean(X,axis=0))\n",
    "#vérifier l'ecart type des colonnes L'Ecart Type des valeurs de chaque variable = 1\n",
    "print('Ecart-Type')\n",
    "print(np.std(X,axis=0))"
   ]
  },
  {
   "cell_type": "code",
   "execution_count": null,
   "id": "5c00db00",
   "metadata": {},
   "outputs": [
    {
     "data": {
      "text/html": [
       "<div>\n",
       "<style scoped>\n",
       "    .dataframe tbody tr th:only-of-type {\n",
       "        vertical-align: middle;\n",
       "    }\n",
       "\n",
       "    .dataframe tbody tr th {\n",
       "        vertical-align: top;\n",
       "    }\n",
       "\n",
       "    .dataframe thead th {\n",
       "        text-align: right;\n",
       "    }\n",
       "</style>\n",
       "<table border=\"1\" class=\"dataframe\">\n",
       "  <thead>\n",
       "    <tr style=\"text-align: right;\">\n",
       "      <th></th>\n",
       "      <th>PC1</th>\n",
       "      <th>PC2</th>\n",
       "      <th>PC3</th>\n",
       "      <th>PC4</th>\n",
       "    </tr>\n",
       "  </thead>\n",
       "  <tbody>\n",
       "    <tr>\n",
       "      <th>Ind1</th>\n",
       "      <td>-1.140795</td>\n",
       "      <td>0.596779</td>\n",
       "      <td>-0.466785</td>\n",
       "      <td>-0.225480</td>\n",
       "    </tr>\n",
       "    <tr>\n",
       "      <th>Ind1</th>\n",
       "      <td>-1.832654</td>\n",
       "      <td>-0.517569</td>\n",
       "      <td>-0.590093</td>\n",
       "      <td>-0.044127</td>\n",
       "    </tr>\n",
       "    <tr>\n",
       "      <th>Ind3</th>\n",
       "      <td>2.145385</td>\n",
       "      <td>1.196202</td>\n",
       "      <td>0.043011</td>\n",
       "      <td>0.300026</td>\n",
       "    </tr>\n",
       "    <tr>\n",
       "      <th>Ind4</th>\n",
       "      <td>-1.470490</td>\n",
       "      <td>-0.185867</td>\n",
       "      <td>1.028427</td>\n",
       "      <td>0.077460</td>\n",
       "    </tr>\n",
       "    <tr>\n",
       "      <th>Ind5</th>\n",
       "      <td>1.806416</td>\n",
       "      <td>-0.196848</td>\n",
       "      <td>0.641662</td>\n",
       "      <td>0.047491</td>\n",
       "    </tr>\n",
       "    <tr>\n",
       "      <th>Ind6</th>\n",
       "      <td>2.728399</td>\n",
       "      <td>-0.307763</td>\n",
       "      <td>-0.098172</td>\n",
       "      <td>-0.277518</td>\n",
       "    </tr>\n",
       "    <tr>\n",
       "      <th>Ind7</th>\n",
       "      <td>-1.250142</td>\n",
       "      <td>0.970907</td>\n",
       "      <td>-0.268556</td>\n",
       "      <td>-0.224893</td>\n",
       "    </tr>\n",
       "    <tr>\n",
       "      <th>Ind8</th>\n",
       "      <td>-1.768993</td>\n",
       "      <td>0.135648</td>\n",
       "      <td>0.812842</td>\n",
       "      <td>-0.008944</td>\n",
       "    </tr>\n",
       "    <tr>\n",
       "      <th>Ind9</th>\n",
       "      <td>2.622361</td>\n",
       "      <td>-0.364268</td>\n",
       "      <td>-0.606958</td>\n",
       "      <td>0.163093</td>\n",
       "    </tr>\n",
       "    <tr>\n",
       "      <th>Ind10</th>\n",
       "      <td>1.242869</td>\n",
       "      <td>-0.549471</td>\n",
       "      <td>0.294842</td>\n",
       "      <td>-0.209638</td>\n",
       "    </tr>\n",
       "    <tr>\n",
       "      <th>Ind11</th>\n",
       "      <td>-1.722674</td>\n",
       "      <td>-0.337043</td>\n",
       "      <td>-0.462169</td>\n",
       "      <td>0.312036</td>\n",
       "    </tr>\n",
       "    <tr>\n",
       "      <th>Ind12</th>\n",
       "      <td>-1.359682</td>\n",
       "      <td>-0.440706</td>\n",
       "      <td>-0.328051</td>\n",
       "      <td>0.090493</td>\n",
       "    </tr>\n",
       "  </tbody>\n",
       "</table>\n",
       "</div>"
      ],
      "text/plain": [
       "            PC1       PC2       PC3       PC4\n",
       "Ind1  -1.140795  0.596779 -0.466785 -0.225480\n",
       "Ind1  -1.832654 -0.517569 -0.590093 -0.044127\n",
       "Ind3   2.145385  1.196202  0.043011  0.300026\n",
       "Ind4  -1.470490 -0.185867  1.028427  0.077460\n",
       "Ind5   1.806416 -0.196848  0.641662  0.047491\n",
       "Ind6   2.728399 -0.307763 -0.098172 -0.277518\n",
       "Ind7  -1.250142  0.970907 -0.268556 -0.224893\n",
       "Ind8  -1.768993  0.135648  0.812842 -0.008944\n",
       "Ind9   2.622361 -0.364268 -0.606958  0.163093\n",
       "Ind10  1.242869 -0.549471  0.294842 -0.209638\n",
       "Ind11 -1.722674 -0.337043 -0.462169  0.312036\n",
       "Ind12 -1.359682 -0.440706 -0.328051  0.090493"
      ]
     },
     "execution_count": 14,
     "metadata": {},
     "output_type": "execute_result"
    }
   ],
   "source": [
    "#l) Calcul les composantes principales\n",
    "from sklearn import decomposition \n",
    "mypca = decomposition.PCA(n_components=4)# un paramétre ici pour 4 composantes \n",
    "#fit_transform is used to calculate the PCAs from training data \n",
    "data_sortie=mypca.fit_transform(X)\n",
    "data_axe=pd.DataFrame(data_sortie,index=df1.index,columns=['PC'+str(i+1) for i in range(4)])\n",
    "data_axe"
   ]
  },
  {
   "cell_type": "code",
   "execution_count": null,
   "id": "153ba8bb",
   "metadata": {},
   "outputs": [
    {
     "name": "stdout",
     "output_type": "stream",
     "text": [
      "EigenVector:\n",
      "[[-0.48773095 -0.4798726   0.53819628  0.49212353]\n",
      " [ 0.26869212  0.62456876  0.14267869  0.71927825]\n",
      " [-0.77703127  0.58741783  0.02513642 -0.22479073]\n",
      " [ 0.2935055   0.18594743  0.83027448 -0.43580082]]\n"
     ]
    }
   ],
   "source": [
    "print('EigenVector:')\n",
    "print(mypca.components_) #vecteurs propres"
   ]
  },
  {
   "cell_type": "markdown",
   "id": "2caebb0e",
   "metadata": {},
   "source": [
    "<h2>F1 est une combinaison linéaire des autres variables. Vérifions le pour l'individu ind1 :</h2>"
   ]
  },
  {
   "cell_type": "code",
   "execution_count": null,
   "id": "53f2b344",
   "metadata": {},
   "outputs": [
    {
     "name": "stdout",
     "output_type": "stream",
     "text": [
      "-1.1407948295229113\n"
     ]
    }
   ],
   "source": [
    "# m) Vérifier que les composantes principales sont en fait des combinaisons linaires des variables initiales.\n",
    "#-0.48773095 -0.4798726   0.53819628  0.49212353 vecteurs propres \n",
    "# 1.01327759  0.60404045 -0.72776715  0.07103104 ind1 matrice centrée et réduite \n",
    "PC1 =1.01327759*(-0.48773095)+0.60404045*(-0.4798726)-0.72776715*(0.53819628)+0.07103104*(0.49212353)\n",
    "print(PC1)"
   ]
  },
  {
   "cell_type": "code",
   "execution_count": null,
   "id": "63f95e45",
   "metadata": {},
   "outputs": [
    {
     "name": "stdout",
     "output_type": "stream",
     "text": [
      "Pourcentage de variance explique par chaque composante :\n",
      "[0.83463295 0.08180052 0.0740908  0.00947573]\n"
     ]
    }
   ],
   "source": [
    "#look at wich variables account for the most variability in the data \n",
    "print(\"Pourcentage de variance explique par chaque composante :\")\n",
    "print(mypca.explained_variance_ratio_) #return the variance caused by each of the "
   ]
  },
  {
   "cell_type": "code",
   "execution_count": null,
   "id": "f8f26c38",
   "metadata": {},
   "outputs": [
    {
     "name": "stdout",
     "output_type": "stream",
     "text": [
      "[83.46329459  8.18005207  7.40907996  0.94757338]\n"
     ]
    }
   ],
   "source": [
    "print(mypca.explained_variance_ratio_*100)"
   ]
  },
  {
   "cell_type": "markdown",
   "id": "d8a1929d",
   "metadata": {},
   "source": [
    "<h3>La premiére composante accapare 83.46% de l'information disponible. Nous disposons de 91.64% avec les deux premiers facteurs.\n",
    "Avec 3 composantes nous avons 99.04.La derniére semble anecdotique\n",
    "On remarque que la premiere composantes 83.46% information ou variance</h3>"
   ]
  },
  {
   "cell_type": "markdown",
   "id": "8b9f9baf",
   "metadata": {},
   "source": [
    "<h3><u>REMARQUE</u> pour atteindre l'objectif de l'ACP il est necessaire qu'avec 1 , 2 ou au maximum 3 axes principaux\n",
    "en puisssent expliquée une part significative de la variance totale de nuage  (70 a 80% par exemple )\n",
    "cela revient donc a maximiser la variance d'une composante principale PCi quelqonque</h3>"
   ]
  },
  {
   "cell_type": "code",
   "execution_count": null,
   "id": "ce85fd8d",
   "metadata": {},
   "outputs": [
    {
     "data": {
      "text/plain": [
       "Text(0.5, 1.0, 'Scree Plot')"
      ]
     },
     "execution_count": 28,
     "metadata": {},
     "output_type": "execute_result"
    },
    {
     "data": {
      "image/png": "[encoded data removed]",
      "text/plain": [
       "<Figure size 432x288 with 1 Axes>"
      ]
     },
     "metadata": {
      "needs_background": "light"
     },
     "output_type": "display_data"
    }
   ],
   "source": [
    "plt.bar(np.arange(1,5), mypca.explained_variance_ratio_)\n",
    "plt.xticks(np.arange(1,5))#set label location\n",
    "plt.xlabel(\"component number\")\n",
    "plt.ylabel(\"Proportion of Variance\")\n",
    "plt.title(\"Scree Plot\")"
   ]
  },
  {
   "cell_type": "code",
   "execution_count": null,
   "id": "43387c5f",
   "metadata": {},
   "outputs": [
    {
     "data": {
      "image/png": "[encoded data removed]",
      "text/plain": [
       "<Figure size 432x288 with 1 Axes>"
      ]
     },
     "metadata": {
      "needs_background": "light"
     },
     "output_type": "display_data"
    }
   ],
   "source": [
    "#Variation Composantes-Variances \n",
    "plt.plot(np.cumsum(mypca.explained_variance_ratio_))\n",
    "plt.title(\"Fig - Variance expliquée vs Nombre de facteurs\")\n",
    "plt.xlabel(\"Nombre De Composantes\")\n",
    "plt.ylabel(\"% Variance Exprimée\")\n",
    "plt.show()"
   ]
  },
  {
   "cell_type": "code",
   "execution_count": null,
   "id": "37be92c6",
   "metadata": {},
   "outputs": [
    {
     "name": "stdout",
     "output_type": "stream",
     "text": [
      "[6.32948508 1.98152088 1.88583095 0.67441472]\n"
     ]
    }
   ],
   "source": [
    "s=mypca.singular_values_\n",
    "print(s) #valeurs de variance"
   ]
  },
  {
   "cell_type": "code",
   "execution_count": null,
   "id": "2f07edee",
   "metadata": {},
   "outputs": [
    {
     "data": {
      "image/png": "[encoded data removed]",
      "text/plain": [
       "<Figure size 720x720 with 1 Axes>"
      ]
     },
     "metadata": {
      "needs_background": "light"
     },
     "output_type": "display_data"
    }
   ],
   "source": [
    "plt.figure(figsize=(10,10))\n",
    "plt.scatter(data_sortie[:,0],data_sortie[:,1],c=df.get('Statistique'),cmap='plasma')\n",
    "plt.xlabel('PC1')\n",
    "plt.ylabel('PC2')\n",
    "plt.show()"
   ]
  },
  {
   "cell_type": "code",
   "execution_count": null,
   "id": "c14f4a09",
   "metadata": {},
   "outputs": [
    {
     "name": "stdout",
     "output_type": "stream",
     "text": [
      "0.0\n"
     ]
    }
   ],
   "source": [
    "# Bruit estimé lié a la covariance\n",
    "print(mypca.noise_variance_)"
   ]
  },
  {
   "cell_type": "code",
   "execution_count": null,
   "id": "5abe8fc8",
   "metadata": {},
   "outputs": [],
   "source": []
  }
 ],
 "metadata": {
  "kernelspec": {
   "display_name": "Python 3 (ipykernel)",
   "language": "python",
   "name": "python3"
  },
  "language_info": {
   "codemirror_mode": {
    "name": "ipython",
    "version": 3
   },
   "file_extension": ".py",
   "mimetype": "text/x-python",
   "name": "python",
   "nbconvert_exporter": "python",
   "pygments_lexer": "ipython3",
   "version": "3.11.2"
  }
 },
 "nbformat": 4,
 "nbformat_minor": 5
}

{
 "cells": [
  {
   "cell_type": "code",
   "execution_count": 1,
   "id": "4c8b7929",
   "metadata": {},
   "outputs": [],
   "source": [
    "#Q2 : importer la bibliothèque « pandas »\n",
    "import pandas as pd "
   ]
  },
  {
   "cell_type": "markdown",
   "id": "1a539456",
   "metadata": {},
   "source": [
    "<h1 style =\"color:green\">Afficher les 10 premiéres lignes</h1>"
   ]
  },
  {
   "cell_type": "code",
   "execution_count": 2,
   "id": "bf513fea",
   "metadata": {},
   "outputs": [
    {
     "data": {
      "text/html": [
       "<div>\n",
       "<style scoped>\n",
       "    .dataframe tbody tr th:only-of-type {\n",
       "        vertical-align: middle;\n",
       "    }\n",
       "\n",
       "    .dataframe tbody tr th {\n",
       "        vertical-align: top;\n",
       "    }\n",
       "\n",
       "    .dataframe thead th {\n",
       "        text-align: right;\n",
       "    }\n",
       "</style>\n",
       "<table border=\"1\" class=\"dataframe\">\n",
       "  <thead>\n",
       "    <tr style=\"text-align: right;\">\n",
       "      <th></th>\n",
       "      <th>PID</th>\n",
       "      <th>ST_NUM</th>\n",
       "      <th>ST_NAME</th>\n",
       "      <th>OWN_OCCUPIED</th>\n",
       "      <th>NUM_BEDROOMS</th>\n",
       "      <th>NUM_BATH</th>\n",
       "      <th>SQ_FT</th>\n",
       "    </tr>\n",
       "  </thead>\n",
       "  <tbody>\n",
       "    <tr>\n",
       "      <th>0</th>\n",
       "      <td>100001000.0</td>\n",
       "      <td>104.0</td>\n",
       "      <td>PUTNAM</td>\n",
       "      <td>Y</td>\n",
       "      <td>3</td>\n",
       "      <td>1</td>\n",
       "      <td>1000</td>\n",
       "    </tr>\n",
       "    <tr>\n",
       "      <th>1</th>\n",
       "      <td>100002000.0</td>\n",
       "      <td>197.0</td>\n",
       "      <td>LEXINGTON</td>\n",
       "      <td>N</td>\n",
       "      <td>3</td>\n",
       "      <td>1.5</td>\n",
       "      <td>--</td>\n",
       "    </tr>\n",
       "    <tr>\n",
       "      <th>2</th>\n",
       "      <td>100003000.0</td>\n",
       "      <td>NaN</td>\n",
       "      <td>LEXINGTON</td>\n",
       "      <td>N</td>\n",
       "      <td>NaN</td>\n",
       "      <td>1</td>\n",
       "      <td>850</td>\n",
       "    </tr>\n",
       "    <tr>\n",
       "      <th>3</th>\n",
       "      <td>100004000.0</td>\n",
       "      <td>201.0</td>\n",
       "      <td>BERKELEY</td>\n",
       "      <td>12</td>\n",
       "      <td>1</td>\n",
       "      <td>NaN</td>\n",
       "      <td>700</td>\n",
       "    </tr>\n",
       "    <tr>\n",
       "      <th>4</th>\n",
       "      <td>NaN</td>\n",
       "      <td>203.0</td>\n",
       "      <td>BERKELEY</td>\n",
       "      <td>Y</td>\n",
       "      <td>3</td>\n",
       "      <td>2</td>\n",
       "      <td>1600</td>\n",
       "    </tr>\n",
       "    <tr>\n",
       "      <th>5</th>\n",
       "      <td>100006000.0</td>\n",
       "      <td>207.0</td>\n",
       "      <td>BERKELEY</td>\n",
       "      <td>Y</td>\n",
       "      <td>NaN</td>\n",
       "      <td>1</td>\n",
       "      <td>800</td>\n",
       "    </tr>\n",
       "    <tr>\n",
       "      <th>6</th>\n",
       "      <td>100007000.0</td>\n",
       "      <td>NaN</td>\n",
       "      <td>WASHINGTON</td>\n",
       "      <td>NaN</td>\n",
       "      <td>2</td>\n",
       "      <td>HURLEY</td>\n",
       "      <td>950</td>\n",
       "    </tr>\n",
       "    <tr>\n",
       "      <th>7</th>\n",
       "      <td>100008000.0</td>\n",
       "      <td>213.0</td>\n",
       "      <td>TREMONT</td>\n",
       "      <td>Y</td>\n",
       "      <td>1</td>\n",
       "      <td>1</td>\n",
       "      <td>NaN</td>\n",
       "    </tr>\n",
       "    <tr>\n",
       "      <th>8</th>\n",
       "      <td>100009000.0</td>\n",
       "      <td>215.0</td>\n",
       "      <td>TREMONT</td>\n",
       "      <td>Y</td>\n",
       "      <td>na</td>\n",
       "      <td>2</td>\n",
       "      <td>1800</td>\n",
       "    </tr>\n",
       "  </tbody>\n",
       "</table>\n",
       "</div>"
      ],
      "text/plain": [
       "           PID  ST_NUM     ST_NAME OWN_OCCUPIED NUM_BEDROOMS NUM_BATH SQ_FT\n",
       "0  100001000.0   104.0      PUTNAM            Y            3        1  1000\n",
       "1  100002000.0   197.0   LEXINGTON            N            3      1.5    --\n",
       "2  100003000.0     NaN   LEXINGTON            N          NaN        1   850\n",
       "3  100004000.0   201.0    BERKELEY           12            1      NaN   700\n",
       "4          NaN   203.0    BERKELEY            Y            3        2  1600\n",
       "5  100006000.0   207.0    BERKELEY            Y          NaN        1   800\n",
       "6  100007000.0     NaN  WASHINGTON          NaN            2   HURLEY   950\n",
       "7  100008000.0   213.0     TREMONT            Y            1        1   NaN\n",
       "8  100009000.0   215.0     TREMONT            Y           na        2  1800"
      ]
     },
     "execution_count": 2,
     "metadata": {},
     "output_type": "execute_result"
    }
   ],
   "source": [
    "#Q3 : Charger le fichier csv correspondant au jeu de données à nettoyer dans un dataframe nommé « df »\n",
    "#read csv file \n",
    "df=pd.read_csv('property_data.csv')\n",
    "#take a look at the first rows \n",
    "df.head(10)"
   ]
  },
  {
   "cell_type": "markdown",
   "id": "285363bc",
   "metadata": {},
   "source": [
    "<h1 style =\"color:green\">Afficher les variables & leurs types</h1>"
   ]
  },
  {
   "cell_type": "code",
   "execution_count": 3,
   "id": "04f4dada",
   "metadata": {},
   "outputs": [
    {
     "name": "stdout",
     "output_type": "stream",
     "text": [
      "PID             float64\n",
      "ST_NUM          float64\n",
      "ST_NAME          object\n",
      "OWN_OCCUPIED     object\n",
      "NUM_BEDROOMS     object\n",
      "NUM_BATH         object\n",
      "SQ_FT            object\n",
      "dtype: object\n"
     ]
    }
   ],
   "source": [
    "#Q4 :Afficher les variables & leurs types\n",
    "print(df.dtypes)"
   ]
  },
  {
   "cell_type": "markdown",
   "id": "a988fcfa",
   "metadata": {},
   "source": [
    "<h1 style =\"color:green\">Identifier le nombre de variables quantitatives et le nombre de variables qualitatives</h1>"
   ]
  },
  {
   "cell_type": "code",
   "execution_count": 4,
   "id": "a875a5f5",
   "metadata": {},
   "outputs": [
    {
     "name": "stdout",
     "output_type": "stream",
     "text": [
      "object     5\n",
      "float64    2\n",
      "Name: count, dtype: int64\n"
     ]
    }
   ],
   "source": [
    "#Q5 : Identifier le nombre de variables quantitatives et le nombre de variables qualitatives\n",
    "print(df.dtypes.value_counts())"
   ]
  },
  {
   "cell_type": "code",
   "execution_count": 5,
   "id": "c63206a5",
   "metadata": {},
   "outputs": [
    {
     "name": "stdout",
     "output_type": "stream",
     "text": [
      "0    104.0\n",
      "1    197.0\n",
      "2      NaN\n",
      "3    201.0\n",
      "4    203.0\n",
      "5    207.0\n",
      "6      NaN\n",
      "7    213.0\n",
      "8    215.0\n",
      "Name: ST_NUM, dtype: float64\n"
     ]
    }
   ],
   "source": [
    "#Q6 : Afficher les données de la variable \"ST_NUM\"\n",
    "print(df['ST_NUM'])"
   ]
  },
  {
   "cell_type": "markdown",
   "id": "3f97e28f",
   "metadata": {},
   "source": [
    "<h1 style =\"color:green\">Y'a t'il des valeurs manquantes pour la variable \"ST_NUM\"</h1>"
   ]
  },
  {
   "cell_type": "code",
   "execution_count": 6,
   "id": "b7e324d7",
   "metadata": {},
   "outputs": [
    {
     "name": "stdout",
     "output_type": "stream",
     "text": [
      "0    False\n",
      "1    False\n",
      "2     True\n",
      "3    False\n",
      "4    False\n",
      "5    False\n",
      "6     True\n",
      "7    False\n",
      "8    False\n",
      "Name: ST_NUM, dtype: bool\n"
     ]
    }
   ],
   "source": [
    "#Q7 : Y'a t'il des valeurs manquantes pour la variable \"ST_NUM\"\n",
    "#print(df['ST_NUM'].isna()) kif kif :D\n",
    "print(df['ST_NUM'].isnull())"
   ]
  },
  {
   "cell_type": "markdown",
   "id": "c1bc0608",
   "metadata": {},
   "source": [
    "<h1 style =\"color:green\">Combien de valeurs manquantes pour la variable \"ST_NUM\"</h1>"
   ]
  },
  {
   "cell_type": "code",
   "execution_count": 7,
   "id": "3e43d904",
   "metadata": {},
   "outputs": [
    {
     "name": "stdout",
     "output_type": "stream",
     "text": [
      "2\n"
     ]
    }
   ],
   "source": [
    "#Q8 : Combien de valeurs manquantes pour la variable \"ST_NUM\"\n",
    "print(df['ST_NUM'].isnull().sum())"
   ]
  },
  {
   "cell_type": "markdown",
   "id": "a9f4c1f4",
   "metadata": {},
   "source": [
    "<h1 style =\"color:green\">Détecter les valeurs manquantes (missing values) et voir comment pandas traite ces valeurs</h1>"
   ]
  },
  {
   "cell_type": "code",
   "execution_count": 8,
   "id": "d1d90f5a",
   "metadata": {},
   "outputs": [
    {
     "data": {
      "text/html": [
       "<div>\n",
       "<style scoped>\n",
       "    .dataframe tbody tr th:only-of-type {\n",
       "        vertical-align: middle;\n",
       "    }\n",
       "\n",
       "    .dataframe tbody tr th {\n",
       "        vertical-align: top;\n",
       "    }\n",
       "\n",
       "    .dataframe thead th {\n",
       "        text-align: right;\n",
       "    }\n",
       "</style>\n",
       "<table border=\"1\" class=\"dataframe\">\n",
       "  <thead>\n",
       "    <tr style=\"text-align: right;\">\n",
       "      <th></th>\n",
       "      <th>PID</th>\n",
       "      <th>ST_NUM</th>\n",
       "      <th>ST_NAME</th>\n",
       "      <th>OWN_OCCUPIED</th>\n",
       "      <th>NUM_BEDROOMS</th>\n",
       "      <th>NUM_BATH</th>\n",
       "      <th>SQ_FT</th>\n",
       "    </tr>\n",
       "  </thead>\n",
       "  <tbody>\n",
       "    <tr>\n",
       "      <th>0</th>\n",
       "      <td>False</td>\n",
       "      <td>False</td>\n",
       "      <td>False</td>\n",
       "      <td>False</td>\n",
       "      <td>False</td>\n",
       "      <td>False</td>\n",
       "      <td>False</td>\n",
       "    </tr>\n",
       "    <tr>\n",
       "      <th>1</th>\n",
       "      <td>False</td>\n",
       "      <td>False</td>\n",
       "      <td>False</td>\n",
       "      <td>False</td>\n",
       "      <td>False</td>\n",
       "      <td>False</td>\n",
       "      <td>False</td>\n",
       "    </tr>\n",
       "    <tr>\n",
       "      <th>2</th>\n",
       "      <td>False</td>\n",
       "      <td>True</td>\n",
       "      <td>False</td>\n",
       "      <td>False</td>\n",
       "      <td>True</td>\n",
       "      <td>False</td>\n",
       "      <td>False</td>\n",
       "    </tr>\n",
       "    <tr>\n",
       "      <th>3</th>\n",
       "      <td>False</td>\n",
       "      <td>False</td>\n",
       "      <td>False</td>\n",
       "      <td>False</td>\n",
       "      <td>False</td>\n",
       "      <td>True</td>\n",
       "      <td>False</td>\n",
       "    </tr>\n",
       "    <tr>\n",
       "      <th>4</th>\n",
       "      <td>True</td>\n",
       "      <td>False</td>\n",
       "      <td>False</td>\n",
       "      <td>False</td>\n",
       "      <td>False</td>\n",
       "      <td>False</td>\n",
       "      <td>False</td>\n",
       "    </tr>\n",
       "    <tr>\n",
       "      <th>5</th>\n",
       "      <td>False</td>\n",
       "      <td>False</td>\n",
       "      <td>False</td>\n",
       "      <td>False</td>\n",
       "      <td>True</td>\n",
       "      <td>False</td>\n",
       "      <td>False</td>\n",
       "    </tr>\n",
       "    <tr>\n",
       "      <th>6</th>\n",
       "      <td>False</td>\n",
       "      <td>True</td>\n",
       "      <td>False</td>\n",
       "      <td>True</td>\n",
       "      <td>False</td>\n",
       "      <td>False</td>\n",
       "      <td>False</td>\n",
       "    </tr>\n",
       "    <tr>\n",
       "      <th>7</th>\n",
       "      <td>False</td>\n",
       "      <td>False</td>\n",
       "      <td>False</td>\n",
       "      <td>False</td>\n",
       "      <td>False</td>\n",
       "      <td>False</td>\n",
       "      <td>True</td>\n",
       "    </tr>\n",
       "    <tr>\n",
       "      <th>8</th>\n",
       "      <td>False</td>\n",
       "      <td>False</td>\n",
       "      <td>False</td>\n",
       "      <td>False</td>\n",
       "      <td>False</td>\n",
       "      <td>False</td>\n",
       "      <td>False</td>\n",
       "    </tr>\n",
       "  </tbody>\n",
       "</table>\n",
       "</div>"
      ],
      "text/plain": [
       "     PID  ST_NUM  ST_NAME  OWN_OCCUPIED  NUM_BEDROOMS  NUM_BATH  SQ_FT\n",
       "0  False   False    False         False         False     False  False\n",
       "1  False   False    False         False         False     False  False\n",
       "2  False    True    False         False          True     False  False\n",
       "3  False   False    False         False         False      True  False\n",
       "4   True   False    False         False         False     False  False\n",
       "5  False   False    False         False          True     False  False\n",
       "6  False    True    False          True         False     False  False\n",
       "7  False   False    False         False         False     False   True\n",
       "8  False   False    False         False         False     False  False"
      ]
     },
     "execution_count": 8,
     "metadata": {},
     "output_type": "execute_result"
    }
   ],
   "source": [
    "#Détecter les valeurs manquantes (missing values) et voir comment pandas traite ces valeurs\n",
    "df.isnull()"
   ]
  },
  {
   "cell_type": "markdown",
   "id": "5a766c5f",
   "metadata": {},
   "source": [
    "<h1 style =\"color:green\">Identifier le nombre de valeurs manquantes par variable</h1>"
   ]
  },
  {
   "cell_type": "code",
   "execution_count": 9,
   "id": "342b16c2",
   "metadata": {},
   "outputs": [
    {
     "data": {
      "text/plain": [
       "PID             1\n",
       "ST_NUM          2\n",
       "ST_NAME         0\n",
       "OWN_OCCUPIED    1\n",
       "NUM_BEDROOMS    2\n",
       "NUM_BATH        1\n",
       "SQ_FT           1\n",
       "dtype: int64"
      ]
     },
     "execution_count": 9,
     "metadata": {},
     "output_type": "execute_result"
    }
   ],
   "source": [
    "#Q10 : Identifier le nombre de valeurs manquantes par variable\n",
    "df.isnull().sum()"
   ]
  },
  {
   "cell_type": "markdown",
   "id": "3fd0702e",
   "metadata": {},
   "source": [
    "<h1 style =\"color:green\">Calculer la somme des valeurs manquantes</h1>"
   ]
  },
  {
   "cell_type": "code",
   "execution_count": 10,
   "id": "68896a6f",
   "metadata": {},
   "outputs": [
    {
     "data": {
      "text/plain": [
       "8"
      ]
     },
     "execution_count": 10,
     "metadata": {},
     "output_type": "execute_result"
    }
   ],
   "source": [
    "#Q11 : Calculer la somme des valeurs manquantes\n",
    "#en realite il y'en a 13 :p\n",
    "df.isnull().sum().sum()"
   ]
  },
  {
   "cell_type": "code",
   "execution_count": 11,
   "id": "ba818cca",
   "metadata": {},
   "outputs": [
    {
     "name": "stdout",
     "output_type": "stream",
     "text": [
      "0      3\n",
      "1      3\n",
      "2    NaN\n",
      "3      1\n",
      "4      3\n",
      "5    NaN\n",
      "6      2\n",
      "7      1\n",
      "8     na\n",
      "Name: NUM_BEDROOMS, dtype: object\n"
     ]
    }
   ],
   "source": [
    "#Q12 Consulter la variable « NUM_BEDROOMS »\n",
    "print(df['NUM_BEDROOMS'])"
   ]
  },
  {
   "cell_type": "code",
   "execution_count": 12,
   "id": "ee1b7abf",
   "metadata": {},
   "outputs": [
    {
     "name": "stdout",
     "output_type": "stream",
     "text": [
      "0    False\n",
      "1    False\n",
      "2     True\n",
      "3    False\n",
      "4    False\n",
      "5     True\n",
      "6    False\n",
      "7    False\n",
      "8    False\n",
      "Name: NUM_BEDROOMS, dtype: bool\n"
     ]
    }
   ],
   "source": [
    "#Q13 Comparez les 2 résultats\n",
    "print(df['NUM_BEDROOMS'].isna())"
   ]
  },
  {
   "cell_type": "markdown",
   "id": "52e1712a",
   "metadata": {},
   "source": [
    "<h1 style =\"color:green\">Répertorier les types des valeurs manquantes ; Réafficher votre dataframe ou bien Re-consulter la variable« NUM_BEDROOMS »</h1>"
   ]
  },
  {
   "cell_type": "code",
   "execution_count": 13,
   "id": "a86520b3",
   "metadata": {},
   "outputs": [],
   "source": [
    "#Q14 Répertorier les types des valeurs manquantes\n",
    "\n",
    "#MV liste contenant les Missing Values que pandas ne le considére pas comme des valeurs manquantes \n",
    "#df2 une nouvelle dataframe contenant 'na' et '--' comme des valeurs manquante "
   ]
  },
  {
   "cell_type": "markdown",
   "id": "65901880",
   "metadata": {},
   "source": [
    "MV = [\"na\",\"--\"]\n",
    "df2=pd.read_csv(\"property_data.csv\", na_values = MV)"
   ]
  },
  {
   "cell_type": "code",
   "execution_count": 14,
   "id": "39301ba9",
   "metadata": {},
   "outputs": [],
   "source": [
    "#Q15 Réafficher votre dataframe ou bien Re-consulter la variable« NUM_BEDROOMS »\n",
    "MV = [\"na\",\"--\"] \n",
    "df2=pd.read_csv(\"property_data.csv\", na_values = MV)"
   ]
  },
  {
   "cell_type": "markdown",
   "id": "9c42bcd4",
   "metadata": {},
   "source": [
    "<h1 style =\"color:green\">Calculer de nouveau la somme des valeurs manquantes</h1>"
   ]
  },
  {
   "cell_type": "code",
   "execution_count": 15,
   "id": "f4b577e2",
   "metadata": {},
   "outputs": [
    {
     "data": {
      "text/plain": [
       "10"
      ]
     },
     "execution_count": 15,
     "metadata": {},
     "output_type": "execute_result"
    }
   ],
   "source": [
    "#Q16 Calculer de nouveau la somme des valeurs manquantes\n",
    "#la somme total des valeurs manquantes de 8 a 10 (inclut les 'na' et '--') \n",
    "df2.isnull().sum().sum()"
   ]
  },
  {
   "cell_type": "markdown",
   "id": "462216fb",
   "metadata": {},
   "source": [
    "<h1 style =\"color:green\">Somme des valeurs manquante par Variable</h1>"
   ]
  },
  {
   "cell_type": "code",
   "execution_count": 16,
   "id": "1f49665d",
   "metadata": {},
   "outputs": [
    {
     "data": {
      "text/plain": [
       "PID             1\n",
       "ST_NUM          2\n",
       "ST_NAME         0\n",
       "OWN_OCCUPIED    1\n",
       "NUM_BEDROOMS    3\n",
       "NUM_BATH        1\n",
       "SQ_FT           2\n",
       "dtype: int64"
      ]
     },
     "execution_count": 16,
     "metadata": {},
     "output_type": "execute_result"
    }
   ],
   "source": [
    "#Somme des valeurs manquante par Variable \n",
    "df2.isnull().sum()"
   ]
  },
  {
   "cell_type": "markdown",
   "id": "621aa3d7",
   "metadata": {},
   "source": [
    "<h1 style =\"color:green\">Consulter les valeurs de la variable « OWN_OCCUPIED» et remarquer la valeur 12 du 4ème échantillon</h1>"
   ]
  },
  {
   "cell_type": "code",
   "execution_count": 17,
   "id": "f15cbe37",
   "metadata": {},
   "outputs": [
    {
     "name": "stdout",
     "output_type": "stream",
     "text": [
      "0      Y\n",
      "1      N\n",
      "2      N\n",
      "3     12\n",
      "4      Y\n",
      "5      Y\n",
      "6    NaN\n",
      "7      Y\n",
      "8      Y\n",
      "Name: OWN_OCCUPIED, dtype: object\n"
     ]
    }
   ],
   "source": [
    "#Q17 Consulter les valeurs de la variable « OWN_OCCUPIED» et remarquer la valeur 12 du 4ème échantillon\n",
    "print(df2['OWN_OCCUPIED'])"
   ]
  },
  {
   "cell_type": "markdown",
   "id": "e52a98f5",
   "metadata": {},
   "source": [
    "<h1 style =\"color:green\">Détecter les valeurs manquantes de cette variable</h1>"
   ]
  },
  {
   "cell_type": "code",
   "execution_count": 18,
   "id": "0ed58afd",
   "metadata": {},
   "outputs": [
    {
     "name": "stdout",
     "output_type": "stream",
     "text": [
      "0    False\n",
      "1    False\n",
      "2    False\n",
      "3    False\n",
      "4    False\n",
      "5    False\n",
      "6     True\n",
      "7    False\n",
      "8    False\n",
      "Name: OWN_OCCUPIED, dtype: bool\n"
     ]
    }
   ],
   "source": [
    "#Q18 Détecter les valeurs manquantes de cette variable\n",
    "print(df2['OWN_OCCUPIED'].isna())"
   ]
  },
  {
   "cell_type": "markdown",
   "id": "6c749dc6",
   "metadata": {},
   "source": [
    "<h1 style =\"color:green\">afficher les ligne 5 jusqu'au ligne 8</h1>"
   ]
  },
  {
   "cell_type": "code",
   "execution_count": 19,
   "id": "e412e2cb",
   "metadata": {},
   "outputs": [
    {
     "name": "stdout",
     "output_type": "stream",
     "text": [
      "           PID  ST_NUM     ST_NAME OWN_OCCUPIED NUM_BEDROOMS NUM_BATH SQ_FT\n",
      "5  100006000.0   207.0    BERKELEY            Y          NaN        1   800\n",
      "6  100007000.0     NaN  WASHINGTON          NaN            2   HURLEY   950\n",
      "7  100008000.0   213.0     TREMONT            Y            1        1   NaN\n",
      "8  100009000.0   215.0     TREMONT            Y           na        2  1800\n"
     ]
    }
   ],
   "source": [
    "#loc pour les accées Atomique\n",
    "print(df.loc[5:8])"
   ]
  },
  {
   "cell_type": "markdown",
   "id": "5c9368a8",
   "metadata": {},
   "source": [
    "<h1 style =\"color:green\">afficher de debut jusqu'au ligne 4</h1>"
   ]
  },
  {
   "cell_type": "code",
   "execution_count": 20,
   "id": "636dcbfa",
   "metadata": {},
   "outputs": [
    {
     "name": "stdout",
     "output_type": "stream",
     "text": [
      "           PID  ST_NUM    ST_NAME OWN_OCCUPIED NUM_BEDROOMS NUM_BATH SQ_FT\n",
      "0  100001000.0   104.0     PUTNAM            Y            3        1  1000\n",
      "1  100002000.0   197.0  LEXINGTON            N            3      1.5    --\n",
      "2  100003000.0     NaN  LEXINGTON            N          NaN        1   850\n",
      "3  100004000.0   201.0   BERKELEY           12            1      NaN   700\n",
      "4          NaN   203.0   BERKELEY            Y            3        2  1600\n"
     ]
    }
   ],
   "source": [
    "print(df.loc[:4])"
   ]
  },
  {
   "cell_type": "markdown",
   "id": "7060aad8",
   "metadata": {},
   "source": [
    "<h1 style =\"color:green\">afficher la 3eme valeur de la colonne 'OWN_OCCUPIED'</h1>"
   ]
  },
  {
   "cell_type": "code",
   "execution_count": 21,
   "id": "b20a5d48",
   "metadata": {},
   "outputs": [
    {
     "data": {
      "text/plain": [
       "'12'"
      ]
     },
     "execution_count": 21,
     "metadata": {},
     "output_type": "execute_result"
    }
   ],
   "source": [
    "df2.loc[3,'OWN_OCCUPIED']"
   ]
  },
  {
   "cell_type": "markdown",
   "id": "ad78700b",
   "metadata": {},
   "source": [
    "<h1 style =\"color:green\">Modifier la valeur erronée \"12\" par « NaN » par une boucle for </h1>"
   ]
  },
  {
   "cell_type": "code",
   "execution_count": 22,
   "id": "25142985",
   "metadata": {},
   "outputs": [],
   "source": [
    "#Q19 Modifier la valeur erronée \"12\" par « NaN »\n",
    "#Remplacement de la variable 12 dans OWN_OCCUPIED\n",
    "import numpy as np \n",
    "i=0\n",
    "for val in df2['OWN_OCCUPIED']:\n",
    "    try:\n",
    "        int(val)\n",
    "        df2.loc[i,'OWN_OCCUPIED'] =np.nan\n",
    "    except ValueError:\n",
    "        pass\n",
    "    i+=1"
   ]
  },
  {
   "cell_type": "markdown",
   "id": "c2d93446",
   "metadata": {},
   "source": [
    "<h1 style =\"color:green\">Tester le remplacement de la valeur 12 dans la variable OWN_OCCUPIED </h1>"
   ]
  },
  {
   "cell_type": "code",
   "execution_count": 23,
   "id": "c87e3c19",
   "metadata": {},
   "outputs": [
    {
     "name": "stdout",
     "output_type": "stream",
     "text": [
      "0    False\n",
      "1    False\n",
      "2    False\n",
      "3     True\n",
      "4    False\n",
      "5    False\n",
      "6     True\n",
      "7    False\n",
      "8    False\n",
      "Name: OWN_OCCUPIED, dtype: bool\n"
     ]
    }
   ],
   "source": [
    "#Q20 Examiner le nombre total de valeurs manquantes pour chaque caractéristique\n",
    "#Tester le remplacement de la valeur 12 dans la variable OWN_OCCUPIED\n",
    "print(df2['OWN_OCCUPIED'].isna())"
   ]
  },
  {
   "cell_type": "markdown",
   "id": "a48a9f32",
   "metadata": {},
   "source": [
    "<h1 style =\"color:green\">Examiner le nombre total de valeurs manquantes  </h1>"
   ]
  },
  {
   "cell_type": "code",
   "execution_count": 24,
   "id": "98bff31c",
   "metadata": {},
   "outputs": [
    {
     "data": {
      "text/plain": [
       "11"
      ]
     },
     "execution_count": 24,
     "metadata": {},
     "output_type": "execute_result"
    }
   ],
   "source": [
    "df2.isnull().sum().sum()"
   ]
  },
  {
   "cell_type": "code",
   "execution_count": 25,
   "id": "440ce8e6",
   "metadata": {},
   "outputs": [
    {
     "name": "stdout",
     "output_type": "stream",
     "text": [
      "0         1\n",
      "1       1.5\n",
      "2         1\n",
      "3       NaN\n",
      "4         2\n",
      "5         1\n",
      "6    HURLEY\n",
      "7         1\n",
      "8         2\n",
      "Name: NUM_BATH, dtype: object\n"
     ]
    }
   ],
   "source": [
    "print(df2['NUM_BATH'])"
   ]
  },
  {
   "cell_type": "markdown",
   "id": "4cdfa1da",
   "metadata": {},
   "source": [
    "<h1 style =\"color:green\">Traitement de colonne NUM_BATH</h1>"
   ]
  },
  {
   "cell_type": "code",
   "execution_count": 26,
   "id": "42173e56",
   "metadata": {},
   "outputs": [
    {
     "data": {
      "text/plain": [
       "0      1\n",
       "1    NaN\n",
       "2      1\n",
       "3    NaN\n",
       "4      2\n",
       "5      1\n",
       "6    NaN\n",
       "7      1\n",
       "8      2\n",
       "Name: NUM_BATH, dtype: object"
      ]
     },
     "execution_count": 26,
     "metadata": {},
     "output_type": "execute_result"
    }
   ],
   "source": [
    "#Traitement de colonne NUM_BATH\n",
    "#nasna3 fi dictionnaire\n",
    "#inplace tbadel fi wa9tha ema mat3awedech t'affichi \n",
    "df2['NUM_BATH'].replace({'1.5':np.nan,'HURLEY':np.nan},inplace=True)\n",
    "df2['NUM_BATH']"
   ]
  },
  {
   "cell_type": "code",
   "execution_count": 27,
   "id": "75eab891",
   "metadata": {},
   "outputs": [
    {
     "data": {
      "text/plain": [
       "0      1\n",
       "1    NaN\n",
       "2      1\n",
       "3    NaN\n",
       "4      2\n",
       "5      1\n",
       "6    NaN\n",
       "7      1\n",
       "8      2\n",
       "Name: NUM_BATH, dtype: object"
      ]
     },
     "execution_count": 27,
     "metadata": {},
     "output_type": "execute_result"
    }
   ],
   "source": [
    "df2['NUM_BATH'].replace({'1.5':np.nan,'HURLEY':np.nan})"
   ]
  },
  {
   "cell_type": "markdown",
   "id": "326faf9e",
   "metadata": {},
   "source": [
    "<h1 style =\"color:green\">Recalculer la somme des missing Values</h1>"
   ]
  },
  {
   "cell_type": "code",
   "execution_count": 28,
   "id": "132dd3c0",
   "metadata": {},
   "outputs": [
    {
     "data": {
      "text/plain": [
       "13"
      ]
     },
     "execution_count": 28,
     "metadata": {},
     "output_type": "execute_result"
    }
   ],
   "source": [
    "# Compter les valeurs manquantes dans la DataFrame\n",
    "#Q22 : Recalculer la somme des missing Values\n",
    "df2.isnull().sum().sum()"
   ]
  },
  {
   "cell_type": "markdown",
   "id": "3900a47c",
   "metadata": {},
   "source": [
    "<h1 style =\"color:green\">valeurs manquantes(NaN) ?</h1>"
   ]
  },
  {
   "cell_type": "code",
   "execution_count": 29,
   "id": "f27bdda6",
   "metadata": {},
   "outputs": [
    {
     "name": "stdout",
     "output_type": "stream",
     "text": [
      "True\n"
     ]
    }
   ],
   "source": [
    "#Des valeurs manquantes(NaN) ? \n",
    "print(df2.isnull().values.any())"
   ]
  },
  {
   "cell_type": "markdown",
   "id": "3d0fe236",
   "metadata": {},
   "source": [
    "<h1 style =\"color:green\">Représentation graphique des NaN</h1>"
   ]
  },
  {
   "cell_type": "code",
   "execution_count": 31,
   "id": "424f6dc6",
   "metadata": {},
   "outputs": [
    {
     "data": {
      "text/plain": [
       "<Axes: >"
      ]
     },
     "execution_count": 31,
     "metadata": {},
     "output_type": "execute_result"
    },
    {
     "data": {
      "image/png": "[encoded data removed]",
      "text/plain": [
       "<Figure size 2000x1000 with 1 Axes>"
      ]
     },
     "metadata": {},
     "output_type": "display_data"
    }
   ],
   "source": [
    "#Représentation graphique des NaN \n",
    "# seaborn représentation graphique d'une autre maniére\n",
    "import seaborn as sns \n",
    "#but : representation graphique des NaN\n",
    "from matplotlib import pyplot as plt \n",
    "plt.figure(figsize=(20,10)) #Dimension de Graphique \n",
    "# (yticklabels = axe des y ,cmap = coleur)\n",
    "sns.heatmap(df2.isna(),yticklabels=False,cmap='viridis',cbar=False)#cmap='viridis'"
   ]
  },
  {
   "cell_type": "code",
   "execution_count": null,
   "id": "b05368aa",
   "metadata": {},
   "outputs": [
    {
     "data": {
      "text/plain": [
       "<AxesSubplot:>"
      ]
     },
     "execution_count": 46,
     "metadata": {},
     "output_type": "execute_result"
    },
    {
     "data": {
      "image/png": "[encoded data removed]",
      "text/plain": [
       "<Figure size 1440x720 with 2 Axes>"
      ]
     },
     "metadata": {
      "needs_background": "light"
     },
     "output_type": "display_data"
    }
   ],
   "source": [
    "#Représentation graphique des NaN \n",
    "# seaborn représentation graphique d'une autre maniére\n",
    "import seaborn as sns \n",
    "#but : representation graphique des NaN\n",
    "from matplotlib import pyplot as plt \n",
    "plt.figure(figsize=(20,10)) #Dimension de Graphique \n",
    "#yticklabels yticklabels=False , cmap='PiYG', cbar=False\n",
    "# (yticklabels = axe des y ,cmap = coleur)\n",
    "sns.heatmap(df2.isna(),yticklabels=True,cmap='PiYG',cbar=True)#cmap='viridis'"
   ]
  },
  {
   "cell_type": "markdown",
   "id": "6956bd76",
   "metadata": {},
   "source": [
    "<h1 style =\"color:green\">Copie de df2 dans df3 et l'afficher</h1>"
   ]
  },
  {
   "cell_type": "code",
   "execution_count": null,
   "id": "46e1d300",
   "metadata": {},
   "outputs": [
    {
     "data": {
      "text/html": [
       "<div>\n",
       "<style scoped>\n",
       "    .dataframe tbody tr th:only-of-type {\n",
       "        vertical-align: middle;\n",
       "    }\n",
       "\n",
       "    .dataframe tbody tr th {\n",
       "        vertical-align: top;\n",
       "    }\n",
       "\n",
       "    .dataframe thead th {\n",
       "        text-align: right;\n",
       "    }\n",
       "</style>\n",
       "<table border=\"1\" class=\"dataframe\">\n",
       "  <thead>\n",
       "    <tr style=\"text-align: right;\">\n",
       "      <th></th>\n",
       "      <th>PID</th>\n",
       "      <th>ST_NUM</th>\n",
       "      <th>ST_NAME</th>\n",
       "      <th>OWN_OCCUPIED</th>\n",
       "      <th>NUM_BEDROOMS</th>\n",
       "      <th>NUM_BATH</th>\n",
       "      <th>SQ_FT</th>\n",
       "    </tr>\n",
       "  </thead>\n",
       "  <tbody>\n",
       "    <tr>\n",
       "      <th>0</th>\n",
       "      <td>100001000.0</td>\n",
       "      <td>104.0</td>\n",
       "      <td>PUTNAM</td>\n",
       "      <td>Y</td>\n",
       "      <td>3.0</td>\n",
       "      <td>1</td>\n",
       "      <td>1000.0</td>\n",
       "    </tr>\n",
       "    <tr>\n",
       "      <th>1</th>\n",
       "      <td>100002000.0</td>\n",
       "      <td>197.0</td>\n",
       "      <td>LEXINGTON</td>\n",
       "      <td>N</td>\n",
       "      <td>3.0</td>\n",
       "      <td>NaN</td>\n",
       "      <td>NaN</td>\n",
       "    </tr>\n",
       "    <tr>\n",
       "      <th>2</th>\n",
       "      <td>100003000.0</td>\n",
       "      <td>NaN</td>\n",
       "      <td>LEXINGTON</td>\n",
       "      <td>N</td>\n",
       "      <td>NaN</td>\n",
       "      <td>1</td>\n",
       "      <td>850.0</td>\n",
       "    </tr>\n",
       "    <tr>\n",
       "      <th>3</th>\n",
       "      <td>100004000.0</td>\n",
       "      <td>201.0</td>\n",
       "      <td>BERKELEY</td>\n",
       "      <td>NaN</td>\n",
       "      <td>1.0</td>\n",
       "      <td>NaN</td>\n",
       "      <td>700.0</td>\n",
       "    </tr>\n",
       "    <tr>\n",
       "      <th>4</th>\n",
       "      <td>NaN</td>\n",
       "      <td>203.0</td>\n",
       "      <td>BERKELEY</td>\n",
       "      <td>Y</td>\n",
       "      <td>3.0</td>\n",
       "      <td>2</td>\n",
       "      <td>1600.0</td>\n",
       "    </tr>\n",
       "    <tr>\n",
       "      <th>5</th>\n",
       "      <td>100006000.0</td>\n",
       "      <td>207.0</td>\n",
       "      <td>BERKELEY</td>\n",
       "      <td>Y</td>\n",
       "      <td>NaN</td>\n",
       "      <td>1</td>\n",
       "      <td>800.0</td>\n",
       "    </tr>\n",
       "    <tr>\n",
       "      <th>6</th>\n",
       "      <td>100007000.0</td>\n",
       "      <td>NaN</td>\n",
       "      <td>WASHINGTON</td>\n",
       "      <td>NaN</td>\n",
       "      <td>2.0</td>\n",
       "      <td>NaN</td>\n",
       "      <td>950.0</td>\n",
       "    </tr>\n",
       "    <tr>\n",
       "      <th>7</th>\n",
       "      <td>100008000.0</td>\n",
       "      <td>213.0</td>\n",
       "      <td>TREMONT</td>\n",
       "      <td>Y</td>\n",
       "      <td>1.0</td>\n",
       "      <td>1</td>\n",
       "      <td>NaN</td>\n",
       "    </tr>\n",
       "    <tr>\n",
       "      <th>8</th>\n",
       "      <td>100009000.0</td>\n",
       "      <td>215.0</td>\n",
       "      <td>TREMONT</td>\n",
       "      <td>Y</td>\n",
       "      <td>NaN</td>\n",
       "      <td>2</td>\n",
       "      <td>1800.0</td>\n",
       "    </tr>\n",
       "  </tbody>\n",
       "</table>\n",
       "</div>"
      ],
      "text/plain": [
       "           PID  ST_NUM     ST_NAME OWN_OCCUPIED  NUM_BEDROOMS NUM_BATH   SQ_FT\n",
       "0  100001000.0   104.0      PUTNAM            Y           3.0        1  1000.0\n",
       "1  100002000.0   197.0   LEXINGTON            N           3.0      NaN     NaN\n",
       "2  100003000.0     NaN   LEXINGTON            N           NaN        1   850.0\n",
       "3  100004000.0   201.0    BERKELEY          NaN           1.0      NaN   700.0\n",
       "4          NaN   203.0    BERKELEY            Y           3.0        2  1600.0\n",
       "5  100006000.0   207.0    BERKELEY            Y           NaN        1   800.0\n",
       "6  100007000.0     NaN  WASHINGTON          NaN           2.0      NaN   950.0\n",
       "7  100008000.0   213.0     TREMONT            Y           1.0        1     NaN\n",
       "8  100009000.0   215.0     TREMONT            Y           NaN        2  1800.0"
      ]
     },
     "execution_count": 31,
     "metadata": {},
     "output_type": "execute_result"
    }
   ],
   "source": [
    "df3=df2.copy()\n",
    "df3"
   ]
  },
  {
   "cell_type": "markdown",
   "id": "782ae089",
   "metadata": {},
   "source": [
    "<h1 style =\"color:green\">'ST_NUM' Imputation de la valeur manquante par une autre valeur 125</h1>"
   ]
  },
  {
   "cell_type": "code",
   "execution_count": null,
   "id": "777e3b56",
   "metadata": {},
   "outputs": [
    {
     "data": {
      "text/plain": [
       "0    104.0\n",
       "1    197.0\n",
       "2    125.0\n",
       "3    201.0\n",
       "4    203.0\n",
       "5    207.0\n",
       "6    125.0\n",
       "7    213.0\n",
       "8    215.0\n",
       "Name: ST_NUM, dtype: float64"
      ]
     },
     "execution_count": 32,
     "metadata": {},
     "output_type": "execute_result"
    }
   ],
   "source": [
    "#1er Méthode\n",
    "#Imputation de la valeur manquante par une autre valeur \n",
    "#Remplacement des NaN dans la colonne ST_NUM\n",
    "df3['ST_NUM'].fillna(125,inplace=True)\n",
    "#Remplacement basé sur une position\n",
    "#df3.loc[2,'ST_NUM']=125\n",
    "#df3.loc[6,'ST_NUM']=135\n",
    "df3['ST_NUM']"
   ]
  },
  {
   "cell_type": "markdown",
   "id": "3c64bbd6",
   "metadata": {},
   "source": [
    "<h1 style =\"color:green\"> remplacement des NaN dans la colonne OWN_OCCUPIED ; imputation de la valeur manquante par la valeur la plus utilisée</h1>"
   ]
  },
  {
   "cell_type": "code",
   "execution_count": null,
   "id": "d10d0fe9",
   "metadata": {},
   "outputs": [
    {
     "name": "stdout",
     "output_type": "stream",
     "text": [
      "0    Y\n",
      "dtype: object\n"
     ]
    }
   ],
   "source": [
    "#imputation de la valeur manquante par la valeur la plus utilisée \n",
    "#remplacement des NaN dans la colonne OWN_OCCUPIED\n",
    "#Dégager la valeur la plus utilisée \n",
    "#mode=df3['OWN_OCCUPIED'].mode()\n",
    "#print(mode)\n",
    "print(df3['OWN_OCCUPIED'].mode())"
   ]
  },
  {
   "cell_type": "code",
   "execution_count": null,
   "id": "2d374eea",
   "metadata": {},
   "outputs": [
    {
     "data": {
      "text/plain": [
       "0    Y\n",
       "1    N\n",
       "2    N\n",
       "3    Y\n",
       "4    Y\n",
       "5    Y\n",
       "6    Y\n",
       "7    Y\n",
       "8    Y\n",
       "Name: OWN_OCCUPIED, dtype: object"
      ]
     },
     "execution_count": 34,
     "metadata": {},
     "output_type": "execute_result"
    }
   ],
   "source": [
    "#Le Remplacement des NaN dans la colonne OWN_OCCUPIED par la valeur la plus utilisée\n",
    "df3['OWN_OCCUPIED'].fillna('Y',inplace=True)\n",
    "df3['OWN_OCCUPIED']"
   ]
  },
  {
   "cell_type": "code",
   "execution_count": null,
   "id": "5402fdfc",
   "metadata": {},
   "outputs": [
    {
     "data": {
      "text/plain": [
       "0    3.0\n",
       "1    3.0\n",
       "2    NaN\n",
       "3    1.0\n",
       "4    3.0\n",
       "5    NaN\n",
       "6    2.0\n",
       "7    1.0\n",
       "8    NaN\n",
       "Name: NUM_BEDROOMS, dtype: float64"
      ]
     },
     "execution_count": 56,
     "metadata": {},
     "output_type": "execute_result"
    }
   ],
   "source": [
    "df3['NUM_BEDROOMS']"
   ]
  },
  {
   "cell_type": "markdown",
   "id": "ccff324a",
   "metadata": {},
   "source": [
    "<h1 style =\"color:green\">Le Remplacement des NaN dans la colonne 'NUM_BEDROOMS' par la valeur la plus utilisée</h1>"
   ]
  },
  {
   "cell_type": "code",
   "execution_count": null,
   "id": "7ab2b320",
   "metadata": {},
   "outputs": [
    {
     "name": "stdout",
     "output_type": "stream",
     "text": [
      "0    3.0\n",
      "dtype: float64\n"
     ]
    }
   ],
   "source": [
    "print(df3['NUM_BEDROOMS'].mode())"
   ]
  },
  {
   "cell_type": "code",
   "execution_count": null,
   "id": "6c6d12fb",
   "metadata": {},
   "outputs": [
    {
     "name": "stdout",
     "output_type": "stream",
     "text": [
      "0    3.0\n",
      "dtype: float64\n"
     ]
    },
    {
     "data": {
      "text/plain": [
       "0    3.0\n",
       "1    3.0\n",
       "2    3.0\n",
       "3    1.0\n",
       "4    3.0\n",
       "5    3.0\n",
       "6    2.0\n",
       "7    1.0\n",
       "8    3.0\n",
       "Name: NUM_BEDROOMS, dtype: float64"
      ]
     },
     "execution_count": 58,
     "metadata": {},
     "output_type": "execute_result"
    }
   ],
   "source": [
    "#Le Remplacement des NaN dans la colonne 'NUM_BEDROOMS' par la valeur la plus utilisée \n",
    "print(df3['NUM_BEDROOMS'].mode())\n",
    "mode=df3['NUM_BEDROOMS'].mode()\n",
    "#df3['NUM_BEDROOMS'].fillna(mode,inplace=True) #non fonctionel\n",
    "df3['NUM_BEDROOMS'].fillna(3.0,inplace=True)\n",
    "df3['NUM_BEDROOMS']"
   ]
  },
  {
   "cell_type": "markdown",
   "id": "dffd249c",
   "metadata": {},
   "source": [
    "<h1 style =\"color:green\">Le Remplacement des NaN dans la colonne 'NUM_BATH' par la valeur la plus utilisée</h1>"
   ]
  },
  {
   "cell_type": "code",
   "execution_count": null,
   "id": "fc3afe29",
   "metadata": {},
   "outputs": [
    {
     "name": "stdout",
     "output_type": "stream",
     "text": [
      "0    1\n",
      "dtype: object\n"
     ]
    },
    {
     "data": {
      "text/plain": [
       "0    1\n",
       "1    1\n",
       "2    1\n",
       "3    1\n",
       "4    2\n",
       "5    1\n",
       "6    1\n",
       "7    1\n",
       "8    2\n",
       "Name: NUM_BATH, dtype: object"
      ]
     },
     "execution_count": 37,
     "metadata": {},
     "output_type": "execute_result"
    }
   ],
   "source": [
    "#Le Remplacement des NaN dans la colonne 'NUM_BATH' par la valeur la plus utilisée\n",
    "print(df3['NUM_BATH'].mode())\n",
    "df3['NUM_BATH'].fillna(1,inplace=True)\n",
    "df3['NUM_BATH']"
   ]
  },
  {
   "cell_type": "markdown",
   "id": "05fc5d5e",
   "metadata": {},
   "source": [
    "<h1 style =\"color:green\">Imputation par la Moyenne de la variale 'SQ_FT'</h1>"
   ]
  },
  {
   "cell_type": "code",
   "execution_count": null,
   "id": "f5554377",
   "metadata": {},
   "outputs": [
    {
     "name": "stdout",
     "output_type": "stream",
     "text": [
      "1100.0\n"
     ]
    },
    {
     "data": {
      "text/plain": [
       "0    1000.0\n",
       "1    1100.0\n",
       "2     850.0\n",
       "3     700.0\n",
       "4    1600.0\n",
       "5     800.0\n",
       "6     950.0\n",
       "7    1100.0\n",
       "8    1800.0\n",
       "Name: SQ_FT, dtype: float64"
      ]
     },
     "execution_count": 38,
     "metadata": {},
     "output_type": "execute_result"
    }
   ],
   "source": [
    "#Imputation par la Moyenne \n",
    "print(df3['SQ_FT'].mean())\n",
    "df3['SQ_FT'].fillna(df3['SQ_FT'].mean(),inplace=True)\n",
    "df3['SQ_FT']"
   ]
  },
  {
   "cell_type": "markdown",
   "id": "237bbe0b",
   "metadata": {},
   "source": [
    "<h1 style =\"color:green\">Imputation de la valeur manquante par la médiane de la var 'PID'</h1>"
   ]
  },
  {
   "cell_type": "code",
   "execution_count": null,
   "id": "e536f41e",
   "metadata": {},
   "outputs": [
    {
     "name": "stdout",
     "output_type": "stream",
     "text": [
      "0    100001000.0\n",
      "1    100002000.0\n",
      "2    100003000.0\n",
      "3    100004000.0\n",
      "4            NaN\n",
      "5    100006000.0\n",
      "6    100007000.0\n",
      "7    100008000.0\n",
      "8    100009000.0\n",
      "Name: PID, dtype: float64\n"
     ]
    }
   ],
   "source": [
    "print(df3['PID'])"
   ]
  },
  {
   "cell_type": "code",
   "execution_count": null,
   "id": "9801ed98",
   "metadata": {},
   "outputs": [
    {
     "data": {
      "text/plain": [
       "0    100001000.0\n",
       "1    100002000.0\n",
       "2    100003000.0\n",
       "3    100004000.0\n",
       "4    100005000.0\n",
       "5    100006000.0\n",
       "6    100007000.0\n",
       "7    100008000.0\n",
       "8    100009000.0\n",
       "Name: PID, dtype: float64"
      ]
     },
     "execution_count": 40,
     "metadata": {},
     "output_type": "execute_result"
    }
   ],
   "source": [
    "# Imputation de la valeur manquante par la médiane \n",
    "#La médiane est la valeur qui sépare la moitié inférieur de la moitié supérieur d'un ensemble :\n",
    "#c'est le point milieu de l'ensemble\n",
    "# Remplacer des NaN en utilisant la médiane de la colonne PID\n",
    "median =df3['PID'].median()\n",
    "df3['PID'].fillna(median,inplace=True)\n",
    "df3['PID']"
   ]
  },
  {
   "cell_type": "markdown",
   "id": "12736f67",
   "metadata": {},
   "source": [
    "<h1 style =\"color:green\">Des valeurs manquantes ?</h1>"
   ]
  },
  {
   "cell_type": "code",
   "execution_count": null,
   "id": "39f8d5b7",
   "metadata": {},
   "outputs": [
    {
     "name": "stdout",
     "output_type": "stream",
     "text": [
      "False\n"
     ]
    }
   ],
   "source": [
    "#Des valeurs manquantes ? \n",
    "print(df3.isnull().values.any())"
   ]
  },
  {
   "cell_type": "markdown",
   "id": "6ac8ae37",
   "metadata": {},
   "source": [
    "<h1 style =\"color:green\">Representation des NaN</h1>"
   ]
  },
  {
   "cell_type": "code",
   "execution_count": null,
   "id": "5e42de23",
   "metadata": {},
   "outputs": [
    {
     "data": {
      "text/plain": [
       "<AxesSubplot:>"
      ]
     },
     "execution_count": 42,
     "metadata": {},
     "output_type": "execute_result"
    },
    {
     "data": {
      "image/png": "[encoded data removed]",
      "text/plain": [
       "<Figure size 1440x720 with 2 Axes>"
      ]
     },
     "metadata": {
      "needs_background": "light"
     },
     "output_type": "display_data"
    }
   ],
   "source": [
    "plt.figure(figsize=(20,10)) #Dimension de Graphique\n",
    "#yticklabels=False , cmap='PiYG', cbar=False\n",
    "sns.heatmap(df3.isna(),yticklabels=True,cmap='PiYG',cbar=True)#cmap='viridis'"
   ]
  },
  {
   "cell_type": "code",
   "execution_count": null,
   "id": "24fd419e",
   "metadata": {},
   "outputs": [],
   "source": []
  }
 ],
 "metadata": {
  "kernelspec": {
   "display_name": "Python 3 (ipykernel)",
   "language": "python",
   "name": "python3"
  },
  "language_info": {
   "codemirror_mode": {
    "name": "ipython",
    "version": 3
   },
   "file_extension": ".py",
   "mimetype": "text/x-python",
   "name": "python",
   "nbconvert_exporter": "python",
   "pygments_lexer": "ipython3",
   "version": "3.11.2"
  }
 },
 "nbformat": 4,
 "nbformat_minor": 5
}
